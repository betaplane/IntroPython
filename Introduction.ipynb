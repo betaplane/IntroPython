{
 "cells": [
  {
   "cell_type": "markdown",
   "metadata": {},
   "source": [
    "# Practicalities\n",
    "\n",
    "## Conda\n",
    "\n",
    "[Conda](https://docs.conda.io/en/latest/) is a combined package and environment manager with a focus on Python (but not exclusively so anymore). \"Environments\" have been part of the Python universe for some time and in various incarnations; the idea is to \"isolate\" as much as possible one particular installation of Python, including an interpreter and any possibly installed third-party extensions (we'll talk about what that means in due course). An environment consists of a folder inside of which a typical Linux file system structure is replicated (`bin`, `lib` folders etc).\n",
    "\n",
    "Environments need to be\n",
    "- created (once)\n",
    "- activated (every time you want to use them)\n",
    "\n",
    "The rationale for using these \"quarantined zones\" is that 1) it allows you to have many different Python interpreters (different versions, different additional capabilities) on one system; and 2) it allows you to keep stacks of different third-party libraries separate from each other, minimizing the potential for conflicts between them.\n",
    "\n",
    "Most operating systems these days come with a Python interpreter pre-installed, so that in principle you could just use that one. However, in some cases (e.g. MacOS), the built-in Python is a special version with OS-specific capabilities (e.g., on the Mac, you could use the system Python to write full-fledged MacOS GUI applications), but also limitations, e.g. on where you can install third-party libraries. On MacOS, the relatively new \"System Integrity Protection (SIP)\" means you can't install libraries in the places Python would like to install them, resulting in a need for messy workarounds. Also, you might sometimes want a really brand-new version of Python, which the one that comes with your OS is unlikely to be.\n",
    "\n",
    "It should maybe be pointed out that if you're using a Conda environmnet (i.e. a folder, typically in a specific place within the file system tree in which Conda itself resides), that does not mean everything you work on has to happen inside that folder - far from it. Personally, I leave these environment folders completely untouched and put my code in some other place.\n",
    "\n",
    "When you **activate** and environment, this simply means that a few file system paths are placed before any others onto the search path, both for the general shell environment and Python itself.\n",
    "\n",
    "With that background, here a couple of examples:\n",
    "\n",
    "1. Create an environment:\n",
    "```\n",
    "conda create -n <name>\n",
    "```\n",
    "\n",
    "2. Activate an environmnet:\n",
    "```\n",
    "conda activate <name>\n",
    "```\n",
    "\n",
    "3. Install a third-party module\n",
    "```\n",
    "conda install [-c <channel>] <name>\n",
    "```\n",
    "\n",
    "Note that if an environment is activated, the install command will install **into the activate environment.** Otherwise, you can give it a `-n` switch to tell it into which environment to install.\n",
    "\n",
    "## Jupyter / IPython\n",
    "\n",
    "The [Jupyter](https://jupyter.org/) set of tools consists of several \"frontends\" to work interactively with Python, of which I will briefly mentione 2: the [console](https://jupyter-console.readthedocs.io/en/stable/), and the [notebook](https://jupyter-notebook.readthedocs.io/en/stable/index.html).\n",
    "\n",
    "### Console\n",
    "\n",
    "The console (`jupyter console`) and [IPython](https://ipython.readthedocs.io/en/stable/) are identical in that the Jupyter console internally uses IPython as the outward-facing frontend. IPython stands for \"interactive Python\" and is a REPL shell similar to the one built into the Python interpreter, but with enhanced capabilities (better tab completions, history, post-mortem debugger and many others). The difference between evoking `ipython` and `jupyter console` on the command line is that Jupyter separates the frontend from the Python \"kernel\", allowing several frontends (e.g. both a console and a notebook) to connect to the same kernel.\n",
    "\n",
    "### Notebook\n",
    "\n",
    "... is what we're using right now, and hopefully you will get a sense of how they work as we go along.\n",
    "\n",
    "### A trick for all of the above\n",
    "\n",
    "One particularly useful trick for IPython / Jupyter is the following: use `_` (single underscore) to refer to the result from the previous line, and `__` (double underscore) for the one before that (I believe in Matlab you use `ans` or something along those lines). In fact, all results are kept in the list `Out` and can be referenced again later by index (e.g. `Out[243]`) as indicated at the beginning of each line of output (see below)."
   ]
  },
  {
   "cell_type": "markdown",
   "metadata": {},
   "source": [
    "# Introduction\n",
    "\n",
    "Python, as a language, is\n",
    "- interpreted language\n",
    "- dynamically typed\n",
    "\n",
    "## Compilers vs. Interpreters\n",
    "\n",
    "A **compiler** is a program that takes source code as input and produces an **executable** file which can be loaded and run directly by a computer's operating system. The compiler is typically specific to a particular computing platform and produces (in general) only executables for that particular platform.\n",
    "\n",
    "An **interpreter** is a program that takes a text file which contains programmatic statements and exectues them immediately. The interpreter, like the compiler, is specific to a particular platform. \n",
    "\n",
    "In both cases, the code is (more or less) independent of the platform, but in the case of an interpreted language, it can be executed immediately on any platform, as long as a corresponding interpreter is available.\n",
    "\n",
    "The program you usually call be executing `python` on the command line is the Python interpreter. Like with some, but by no means all, other scripting languages, the Python interpreter doubles as a **\"shell\"**. That is, there are two fundamental modes of working with Python:\n",
    "\n",
    "1. run a script: `python script.py`\n",
    "2. work interactively (**'REPL'**): `python`\n",
    "\n",
    "The terms 'interpreted language' and 'scripting language' are synonymous (I think). 'Shells' such as *bash* work essentially in the same way as Python.\n",
    "\n",
    "### A note on running scripts in general\n",
    "\n",
    "In general, script files of all kinds can be executed on \\*nix architectures by setting the right permissions (`chmod 755 script.py`) and calling them with the `./` prefix. For the operating system to know which interpreter to invoke, you can give the script a **\"shebang\"** line at the very top:\n",
    "```python\n",
    "#!/usr/bin/env python\n",
    "```\n",
    "This is not needed if you call the script excplicitely with the Python interpreter:\n",
    "```python\n",
    "python script.py\n",
    "```\n",
    "The shebang line can be useful if you want to make sure the script gets executed by a specific Python interpreter, e.g. one associated with a specific *conda* environment:\n",
    "```python\n",
    "#!/path/to/a/specific/python\n",
    "```\n",
    "\n",
    "(The line `#!/usr/bin/env python` actually asks the current shell environement for the location of the Python interpreter and will substitute the correct one if a particular conda environment is activated.)\n",
    "\n",
    "\n",
    "## What is a variable?\n",
    "### in mathematics:\n",
    "- a symbol which we imagine to be able to take on an arbitrary value\n",
    "    - sometimes, it stands for *all* the values it can take on\n",
    "    - sometimes, it stands for *a particular* value which we don't know explicitely\n",
    "\n",
    "### in programming:\n",
    "- a memory location that holds a given value at a given time\n",
    "- that can be overwritten with a different value at any time\n",
    "\n",
    "Many programming languages require you to **declare** variables before you can use them. That means in particular:\n",
    "- declare the variable to be of a certain **type**\n",
    "- declare the variable **\"shape\"** (in the case of **arrays**)\n",
    "- in the case of static memory allocation, also the **size**\n",
    "\n",
    "Python does not require you to declare variables; instead, it **infers** a lot of what it needs to know:"
   ]
  },
  {
   "cell_type": "code",
   "execution_count": null,
   "metadata": {},
   "outputs": [],
   "source": [
    "# This statements assigns the value '5' to the name 'a'\n",
    "a = 5"
   ]
  },
  {
   "cell_type": "markdown",
   "metadata": {},
   "source": [
    "Btw, the line starting with `#` above is a **comment** - text that is ignored by the Python interpreter."
   ]
  },
  {
   "cell_type": "code",
   "execution_count": null,
   "metadata": {},
   "outputs": [],
   "source": [
    "# Python infers that the number should be interpreted as an integer\n",
    "type(a)"
   ]
  },
  {
   "cell_type": "code",
   "execution_count": null,
   "metadata": {},
   "outputs": [],
   "source": [
    "# If you wanted it to be represented as a float, you would write\n",
    "a = 5.\n",
    "type(a)"
   ]
  },
  {
   "cell_type": "markdown",
   "metadata": {},
   "source": [
    "Unlike in other scripting languages, you don't even have to declare that `a` **is** a variable. In JavaScript, for example, you'd have to write:\n",
    "```javascript\n",
    "var a = 5\n",
    "```\n",
    "\n",
    "Moreover, you can assign variables at any given place in a script or module, unlike in some compiled languages which require you to declare all variables at the beginning of a program. The reason why compiled languages often require you to declare variables at the beginning of the program is because the operating system needs to know how much memory the program requires to run. Any variable defined in the program takes up a memory location. \n",
    "\n",
    "## Memory allocation and garbage collection\n",
    "\n",
    "A program can also request memory from the operating system while it is already running: this is called **dynamic memory allocation** and is pretty much how most programs operate nowadays. In fact, under the hood, Python needs to request memory from the operating system every time you type something like `a = 5`.\n",
    "\n",
    "Of course, dynamically allocated memory also needs to be freed again at some point, lest a program keep eating up more and more of the computer's available RAM (if that happens, it is called a *memory leak*). While many compiled programming languages require you to do the work of deallocating memory again yourself, Python uses **garbage collection** - it deallocates memory automatically if it determines it is no longer needed (how it does that is certainly beyond an introduction and need not concern you). \n",
    "\n",
    "(As a side note: statically declared variables do not need to be deallocated even in compiled languages; dynamic allocation is usually exclusively used for **arrays** of variables, a concept we will get to later.)\n",
    "\n",
    "## Automatic typecasting\n",
    "\n",
    "We have seen above that Python has a concept called **\"type\"** - e.g. a number can be a `float` or an `int`, and there are other basice types such as strings (`str`). Any memory location holds only a sequence of `0`s and `1`s, and in order for such sequences to \"mean\" anything, knowledge of what is represented is necessary; such knowledge is represented by the informations **\"type\"**. The same binary sequence in computer memory may represent different numbers depending on whether its associated type is \"integer\" or \"floating point\", and re-interpreted as a character, it will most obviously correspond to something completely different.\n",
    "\n",
    "Luckily, in Python, we don't need to worry about that. With other languages, a problem might arise if we tried to perform a mathematical operation on differently typed numbers:"
   ]
  },
  {
   "cell_type": "code",
   "execution_count": null,
   "metadata": {},
   "outputs": [],
   "source": [
    "1 + 2.5"
   ]
  },
  {
   "cell_type": "markdown",
   "metadata": {},
   "source": [
    "Even though we saw before that Python automatically assigns the type `int` to the a number typed as `1` and the type `float` to a number typed as `2.5`, it does not complain when we try to add them. Instead, it realizes that it needs to **cast** the number `1` to a `float` before adding it to `2.5`.\n",
    "\n",
    "As a result, Python is incrediblty convenient to use - we hardly need to think more deeply about what we're doing. Nonetheless, it is often the case that errors arise from insufficient understanding of what's going on behind the scenes.\n",
    "\n",
    "On final example of the `float`/`int` issue:"
   ]
  },
  {
   "cell_type": "code",
   "execution_count": null,
   "metadata": {},
   "outputs": [],
   "source": [
    "3 / 2"
   ]
  },
  {
   "cell_type": "markdown",
   "metadata": {},
   "source": [
    "The operator `/` corresponds to division as we would normally understand it. Note, though, that both `1` and `2` are `int`s, whereas the result needs to be a `float` - again Python does the correct thing.\n",
    "\n",
    "There is however another operator, `//`, which corresponds to \"integer divison\" (i.e. an integer result without the \"remainder\"):"
   ]
  },
  {
   "cell_type": "code",
   "execution_count": null,
   "metadata": {},
   "outputs": [],
   "source": [
    "5 // 2"
   ]
  },
  {
   "cell_type": "markdown",
   "metadata": {},
   "source": [
    "Its result is again an `int`:"
   ]
  },
  {
   "cell_type": "code",
   "execution_count": null,
   "metadata": {},
   "outputs": [],
   "source": [
    "type(5 // 2)"
   ]
  },
  {
   "cell_type": "markdown",
   "metadata": {},
   "source": [
    "## Mathematical operators in Python\n",
    "\n",
    "The following operators are available:\n",
    "- `+`, `-`, `*`, `/` - with the usual meaning\n",
    "- `**` represents exponentiation (**not** `^`)\n",
    "- `1j` represents the imaginary unit ($\\sqrt{-1}$)\n",
    "- `//` represents integer division and `%` the modulo operator (returns the remainder)"
   ]
  },
  {
   "cell_type": "code",
   "execution_count": null,
   "metadata": {},
   "outputs": [],
   "source": [
    "5 % 2"
   ]
  },
  {
   "cell_type": "markdown",
   "metadata": {},
   "source": [
    "# Functions (1)\n",
    "\n",
    "Functions take arguments and return values; we will refine this concept as we go along."
   ]
  },
  {
   "cell_type": "code",
   "execution_count": null,
   "metadata": {},
   "outputs": [],
   "source": [
    "def hello(world):\n",
    "    return world"
   ]
  },
  {
   "cell_type": "markdown",
   "metadata": {},
   "source": [
    "The keyword `def` tells the Python interpreter that what follows is a function definition; `pourquoi` is the name of the function, and `pas` is its argument. The name of the function and of the arguments is completely up to you.\n",
    "\n",
    "The function `pourquoi` does nothing but return its argument, whatever that may be:"
   ]
  },
  {
   "cell_type": "code",
   "execution_count": null,
   "metadata": {},
   "outputs": [],
   "source": [
    "hello(5) # an int"
   ]
  },
  {
   "cell_type": "code",
   "execution_count": null,
   "metadata": {},
   "outputs": [],
   "source": [
    "hello(3.14) # a float"
   ]
  },
  {
   "cell_type": "code",
   "execution_count": null,
   "metadata": {},
   "outputs": [],
   "source": [
    "hello('moi') # a string"
   ]
  },
  {
   "cell_type": "markdown",
   "metadata": {},
   "source": [
    "# Python style elements (1)\n",
    "\n",
    "Now that we have seen a function definition, let's introduce some general elements of Python's syntax.\n",
    "\n",
    "## 1. Indentation\n",
    "\n",
    "Programming languages usually need a way to express that a number of code lines belong together - e.g. the body of a function. Such functionally coherent pieces of code are usually called \"blocks\" and occur naturally in a variety of circumstances which we will encounter in due course. \n",
    "\n",
    "Many languages use parentheses/brackets to surround blocks of code; Python uses **indentation**. Lines of code which are indented with respect to preceding ones belong to a block. This grew out of programmers' practice to indent code in order to make it more legible (parentheses get very confusing very quickly - try *Lisp* for a taste!).\n",
    "\n",
    "In Python, this practice has been turned into a **functional** element of the syntax. **<span style=\"color:red\">It does not matter what characters (tab or spaces) you use to indent your code - <span style=\"color:green\">but</span> it must be consistent across your file.</span>\n",
    "**\n",
    "\n",
    "The other element of style to note is the **colon** after the first line of the function definition. I don't think indented code blocks in Python ever occur without the colon, and it probably is simply another element meant to make the code more readable to humans (i.e. signify that what follows is a function definition).\n",
    "\n",
    "## 2. Quoted strings\n",
    "\n",
    "If you executed our function in the following way"
   ]
  },
  {
   "cell_type": "code",
   "execution_count": null,
   "metadata": {},
   "outputs": [],
   "source": [
    "hello(moi)"
   ]
  },
  {
   "cell_type": "markdown",
   "metadata": {},
   "source": [
    "you get an error message. Unlike before, we didn't quote the `moi` this time. Unquoted names in Python refer to variables and other objects (definition forthcoming) which reside in the computer's memory; but `moi` has never been defined before.\n",
    "\n",
    "To be precise, Python has, again, interpreted what we wanted to do automatically. We could also have written:"
   ]
  },
  {
   "cell_type": "code",
   "execution_count": null,
   "metadata": {},
   "outputs": [],
   "source": [
    "a = 'world'\n",
    "hello(a)"
   ]
  },
  {
   "cell_type": "markdown",
   "metadata": {},
   "source": [
    "In fact, we could use:"
   ]
  },
  {
   "cell_type": "code",
   "execution_count": null,
   "metadata": {},
   "outputs": [],
   "source": [
    "world = 'Mars'\n",
    "hello(world)"
   ]
  },
  {
   "cell_type": "markdown",
   "metadata": {},
   "source": [
    "**Now** we have defined `moi`; we have assigned the *string* \"toi\" to the variable `moi`. As mentioned before, strings have the type `str` in Python:"
   ]
  },
  {
   "cell_type": "code",
   "execution_count": null,
   "metadata": {},
   "outputs": [],
   "source": [
    "type(world)"
   ]
  },
  {
   "cell_type": "markdown",
   "metadata": {},
   "source": [
    "Strings are denoted by surrounding them with quotes. **<span style=\"color:red\">It does not matter whether you use single or double quotes.</span>**\n",
    "\n",
    "If you need to quote something **inside** a quote, use the respective other type of quote character, i.e. `\"'this' being quoted\"` is equivalent to `'\"this\" being quoted'`. (If more levels of quoting are necessary, it usually depends on the particular purpose what kind of *\"escaping\"* needs to be applied.)\n",
    "\n",
    "## 3. Comments\n",
    "\n",
    "If you want to comment your code, use the character `#`. Everything between the `#` and the end of the line will be ignored by the interpreter. (I.e. you can use it at the beginning of the line, but also after some code; there is no multiline-comment in Python.)\n",
    "\n",
    "## 4. `None`\n",
    "\n",
    "Many languages have a special keyword reserved to denote \"nothing\" (often, it is called `null` or variants thereof). In Python, the \"nothing\" keyword is `None` (with capital \"N\"). We will see it in the wild shortly.\n",
    "\n",
    "## 5. Upper and lower case\n",
    "\n",
    "Capitalization matters in the sense that the name `A` and the name `a` will refer to distinct entities. However, in terms of \"style\", you are free to use capital and lower-case letters in any combination you desire.\n",
    "\n",
    "## 6. Whitespace\n",
    "\n",
    "Whitespace is ignored - places as many or as few spaces between other language elements as you like:"
   ]
  },
  {
   "cell_type": "code",
   "execution_count": null,
   "metadata": {},
   "outputs": [],
   "source": [
    "a=5\n",
    "a"
   ]
  },
  {
   "cell_type": "code",
   "execution_count": null,
   "metadata": {},
   "outputs": [],
   "source": [
    "a                           =                          7\n",
    "a"
   ]
  },
  {
   "cell_type": "markdown",
   "metadata": {},
   "source": [
    "# Functions (2)\n",
    "\n",
    "Your function can have an arbitrary number of elements:"
   ]
  },
  {
   "cell_type": "code",
   "execution_count": null,
   "metadata": {},
   "outputs": [],
   "source": [
    "def func(a, b):\n",
    "    return a + b"
   ]
  },
  {
   "cell_type": "markdown",
   "metadata": {},
   "source": [
    "Functions often return a value (its *return value*). In other languages, something that doesn't return a value but is \"called\" in the same way as a function is usually called a *subroutine*. Python keeps things simple and only uses one concept. The return value of the function is denoted, inside the function definition, by the keyword `return`. If your function is really a subroutine, you can just leave out the `return`, although, in that case, Python will automatically return the value `None` (another reserved word in Python). You could also explicitely write `return None`.\n",
    "\n",
    "Btw, the return value of a function can (obviously) be assigned to a variable:"
   ]
  },
  {
   "cell_type": "code",
   "execution_count": null,
   "metadata": {},
   "outputs": [],
   "source": [
    "c = func(3, 4)\n",
    "c"
   ]
  },
  {
   "cell_type": "markdown",
   "metadata": {},
   "source": [
    "A little example of what is **not** possible:"
   ]
  },
  {
   "cell_type": "code",
   "execution_count": null,
   "metadata": {},
   "outputs": [],
   "source": [
    "func(3, 'word')"
   ]
  },
  {
   "cell_type": "markdown",
   "metadata": {},
   "source": [
    "The function takes two arguments and adds them; naturally, strings and numbers really can't be added together even with automatic typecasting (there's no way to turn a string into a number in the same way an `int` can be re-interpreted as a `float`). Python therefore throws a correspondingly named `TypeError`.\n",
    "\n",
    "## Function arguments\n",
    "\n",
    "There are two ways of handing arguments to functions in Python:\n",
    "1. as an ordered sequence\n",
    "2. with \"keywords\"\n",
    "\n",
    "In the first case, Python looks at the order in which the arguments appear in both the definition and the later call in order to determine which is which:"
   ]
  },
  {
   "cell_type": "code",
   "execution_count": null,
   "metadata": {},
   "outputs": [],
   "source": [
    "def func(arg1, arg2, arg3):\n",
    "    # 'print()' and 'format()' are built-in functions - later :P\n",
    "    print(\"First argument: {}, second argument: {}, third argument: {}\".format(arg1, arg2, arg3))\n",
    "    \n",
    "func('one', 2, 3.)"
   ]
  },
  {
   "cell_type": "markdown",
   "metadata": {},
   "source": [
    "With the same function definition, you could use the names you have given your function's arguments when you call it:"
   ]
  },
  {
   "cell_type": "code",
   "execution_count": null,
   "metadata": {},
   "outputs": [],
   "source": [
    "func(arg2='eins', arg1='zwei', arg3='drei')"
   ]
  },
  {
   "cell_type": "markdown",
   "metadata": {},
   "source": [
    "In which case the order doesn't matter anymore, it is the **name** according to which the values are assigned to the arguments.\n",
    "\n",
    "This is an uncommon use, however (obviously, since it requires more writing). Typically they are used for two other important scenarios:\n",
    "1. **default values**\n",
    "1. **optional arguments**\n",
    "\n",
    "To define a function with an argument that posseses a default value:"
   ]
  },
  {
   "cell_type": "code",
   "execution_count": null,
   "metadata": {},
   "outputs": [],
   "source": [
    "def func(default=5):\n",
    "    return default"
   ]
  },
  {
   "cell_type": "markdown",
   "metadata": {},
   "source": [
    "If this function is called without an argument, the default value is substituted:"
   ]
  },
  {
   "cell_type": "code",
   "execution_count": null,
   "metadata": {},
   "outputs": [],
   "source": [
    "func()"
   ]
  },
  {
   "cell_type": "markdown",
   "metadata": {},
   "source": [
    "(This demonstrates also how to call a function without any arguments.) If it is called **with** a value, that value takes precedence:"
   ]
  },
  {
   "cell_type": "code",
   "execution_count": null,
   "metadata": {},
   "outputs": [],
   "source": [
    "func('OMG')"
   ]
  },
  {
   "cell_type": "markdown",
   "metadata": {},
   "source": [
    "Note also, that as with all variables in Python, the type of the variable will be determined automatically and need not be specified (and, in fact, can be different between function calls, if the body of the function is compatible with that).\n",
    "\n",
    "The same syntax is used in order to denote that an argument is **optional**:"
   ]
  },
  {
   "cell_type": "code",
   "execution_count": null,
   "metadata": {},
   "outputs": [],
   "source": [
    "# Btw, this is a function that doesn't return anything - it just prints something to the output\n",
    "def func(maybe=None):\n",
    "    if maybe is not None:\n",
    "        print(\"yes\")\n",
    "    else:\n",
    "        print(\"no\")"
   ]
  },
  {
   "cell_type": "code",
   "execution_count": null,
   "metadata": {},
   "outputs": [],
   "source": [
    "func()"
   ]
  },
  {
   "cell_type": "code",
   "execution_count": null,
   "metadata": {},
   "outputs": [],
   "source": [
    "func('hello')"
   ]
  },
  {
   "cell_type": "markdown",
   "metadata": {},
   "source": [
    "An argument with the default value of `None` is interpreted as optional. **<span style=\"color:red\">Note, however, that it is up to the function body to actually test whether the argument is present or not.</span>**\n",
    "\n",
    "If a function has no argument (or optional ones that aren't used in the call), it is called with empty parentheses. **<span style=\"color:red\">The parentheses after a name tell the interpreter to call the function, whether empty or not.</span>**\n",
    "\n",
    "If you write just the name of the function without parentheses, you are simply *referring* to a named object and Python will simply tell you what it is:"
   ]
  },
  {
   "cell_type": "code",
   "execution_count": null,
   "metadata": {},
   "outputs": [],
   "source": [
    "func"
   ]
  },
  {
   "cell_type": "markdown",
   "metadata": {},
   "source": [
    "A function can combine both types of arguments:"
   ]
  },
  {
   "cell_type": "code",
   "execution_count": null,
   "metadata": {},
   "outputs": [],
   "source": [
    "def func(a, b, c=None):\n",
    "    d = a + b\n",
    "    if c is not None:\n",
    "        return d + c\n",
    "    else:\n",
    "        return d"
   ]
  },
  {
   "cell_type": "code",
   "execution_count": null,
   "metadata": {},
   "outputs": [],
   "source": [
    "func(1, 2)"
   ]
  },
  {
   "cell_type": "code",
   "execution_count": null,
   "metadata": {},
   "outputs": [],
   "source": [
    "func(4, 5, c=6)"
   ]
  },
  {
   "cell_type": "markdown",
   "metadata": {},
   "source": [
    "If you supply the keyword argument at the same position as it occurs in the function definition, you don't actually need to supply the keyword when you call the funtion:"
   ]
  },
  {
   "cell_type": "code",
   "execution_count": null,
   "metadata": {},
   "outputs": [],
   "source": [
    "func(1, 2, 3)"
   ]
  },
  {
   "cell_type": "markdown",
   "metadata": {},
   "source": [
    "Non-keyword arguments, on the other hand, are not optional, and if not supplied (**<span style=\"color:red\">in the correct order</span>** or with name), will result in an error:"
   ]
  },
  {
   "cell_type": "code",
   "execution_count": null,
   "metadata": {},
   "outputs": [],
   "source": [
    "func(c=5)"
   ]
  },
  {
   "cell_type": "markdown",
   "metadata": {},
   "source": [
    "Also, your function's argument list must be ordered such that all **<span style=\"color:red\">ordered arguements come before keyword arguments</span>**:"
   ]
  },
  {
   "cell_type": "code",
   "execution_count": null,
   "metadata": {},
   "outputs": [],
   "source": [
    "def func(a=None, b):\n",
    "    pass"
   ]
  },
  {
   "cell_type": "markdown",
   "metadata": {},
   "source": [
    "As you can see, Python's error messages are quite descriptive and usually tell you exactly what's wrong.\n",
    "\n",
    "(The `pass` keyword can be used when syntax requires that there be *something* at a specific place in the code, but you don't really want to do anything. The function definition would not be recognized if there were no code whatsover in the indented block, but since this is a demonstration only we really don't need to perform anything, we `pass`...)\n",
    "\n",
    "A final note: We have redefined the name \"func\" many times above. This is perfectly fine in Python: The most recent definition is the one that remains associated to the name \"func\". We will inspect this issue more later.\n",
    "\n",
    "# Object Oriented Programming\n",
    "\n",
    "Object orientated programming (OOP) is a programming *paradigm*. It doesn't describe a language per se and can be implemented in principle in any langauge, but many languages are built around this paradigm and provide corresponding elements and structures. Object orientation is a prominent feature of Python and useful in particular to keep your code well-structured and maintainable.\n",
    "\n",
    "There are two key ideas in OOP which I will introduce here: **encapsulation** and **inheritance**. Furthermore, OOP is often associated with certain prescriptions on how to best handle errors and, more generally, \"events\".\n",
    "\n",
    "## What is an object?\n",
    "\n",
    "An *object* in OOP is an entity that encapsulates both data and functionality and keeps it separate from other objects. In Python, the idea of an object is represented by the concept of `class`. A class definition looks as follows:\n",
    "\n",
    "```python\n",
    "class Eagle:\n",
    "    pass\n",
    "```\n",
    "This class, named \"Eagle\", does nothing of course (I used the keyword `pass` again, since for Python to accept the definition, there needs to be *something* on the indented line after the colon). In case you ever look at other people's code and get confused, I will mention here that in Python 2, there used to be \"old style\" and \"new style\" classes which differed in the way they were declared: `class Eagle():` for old style and `class Eagle(object):` for new style. Python 3 only has new style classes and it doesn't matter if you declare them with or without the `(object)` - however, the syntax with the parentheses **does** have a meaning and we will learn about that shortly.\n",
    "\n",
    "We use objects in computing in order to group entities together that, in the programmer's opinion, belong together - the object *encapsulates* them. Entities, here, refer to data (i.e. variables) and functions.\n",
    "\n",
    "Let us look at a more capable example:"
   ]
  },
  {
   "cell_type": "code",
   "execution_count": null,
   "metadata": {},
   "outputs": [],
   "source": [
    "class Person(object):\n",
    "    def __init__(self, nationality):\n",
    "        self.nationality = nationality"
   ]
  },
  {
   "cell_type": "markdown",
   "metadata": {},
   "source": [
    "We will immediately need to take note of another concept in OOP: initialization. In order to initialize the `Person` object, you call it similar to how you call a function, and assign it to an **instance**:"
   ]
  },
  {
   "cell_type": "code",
   "execution_count": null,
   "metadata": {},
   "outputs": [],
   "source": [
    "Arno = Person('German')"
   ]
  },
  {
   "cell_type": "markdown",
   "metadata": {},
   "source": [
    "The **instance** of the `Person` class has here been called `Arno`. What is Arno's personality?"
   ]
  },
  {
   "cell_type": "code",
   "execution_count": null,
   "metadata": {},
   "outputs": [],
   "source": [
    "Arno.nationality"
   ]
  },
  {
   "cell_type": "markdown",
   "metadata": {},
   "source": [
    "### Instantiation\n",
    "\n",
    "Why is the object referred to by the name of `Arno` an \"instance\"? Because the class represents, as the name suggests, a \"class\" of entities, which however can have many different \"instances\":"
   ]
  },
  {
   "cell_type": "code",
   "execution_count": null,
   "metadata": {},
   "outputs": [],
   "source": [
    "Simone = Person('Swiss')\n",
    "Simone.nationality"
   ]
  },
  {
   "cell_type": "markdown",
   "metadata": {},
   "source": [
    "We have instantiated two different objects of class `Person`, each with its own, distinct attribute `nationality`. As you can see, you **access** the value of the attribute via the \"dot-accessor\" syntax which Python shares with many other object-oriented languages (e.g. Java). The same syntax allows you to change the value of the attribute after the object has been instantiated:"
   ]
  },
  {
   "cell_type": "code",
   "execution_count": null,
   "metadata": {},
   "outputs": [],
   "source": [
    "Simone.nationality = 'Chilean'\n",
    "Simone.nationality"
   ]
  },
  {
   "cell_type": "markdown",
   "metadata": {},
   "source": [
    "However, one thing we cannot do is access this attribute from the object representing the class:"
   ]
  },
  {
   "cell_type": "code",
   "execution_count": null,
   "metadata": {},
   "outputs": [],
   "source": [
    "Person.nationality"
   ]
  },
  {
   "cell_type": "markdown",
   "metadata": {},
   "source": [
    "For this reason, attributes like `nationality` of `Person` are referred to as **instance variables**. Each instance will have a specific set of values associated with its instance variables, distinct from those of other instances of the same class. However, there also exists the concept of a **class variable** - one that **all** instances of a class share. They are expressed in the class definition as follows:"
   ]
  },
  {
   "cell_type": "code",
   "execution_count": null,
   "metadata": {},
   "outputs": [],
   "source": [
    "class Animal(object):\n",
    "    phylum = 'Chordata'\n",
    "    legs = None\n",
    "    \n",
    "Dog = Animal()\n",
    "Cat = Animal()\n",
    "Cat.phylum"
   ]
  },
  {
   "cell_type": "markdown",
   "metadata": {},
   "source": [
    "Class variables are declared immediately under the definition line and need to contain the assignment operator (`=`); for that reason, if a class variable has no value at the time of definition, assign `None` to it.\n",
    "\n",
    "If a assign a number of legs to the object representing the class:"
   ]
  },
  {
   "cell_type": "code",
   "execution_count": null,
   "metadata": {},
   "outputs": [],
   "source": [
    "Animal.legs = 4\n",
    "Dog.legs"
   ]
  },
  {
   "cell_type": "code",
   "execution_count": null,
   "metadata": {},
   "outputs": [],
   "source": [
    "Cat.legs"
   ]
  },
  {
   "cell_type": "markdown",
   "metadata": {},
   "source": [
    "all instances will have the same number of legs. Btw, Python being Python, you can even give objects attributes after instantiation:"
   ]
  },
  {
   "cell_type": "code",
   "execution_count": null,
   "metadata": {},
   "outputs": [],
   "source": [
    "# an instance variable\n",
    "Simone.hair = 'blond'\n",
    "Simone.hair"
   ]
  },
  {
   "cell_type": "code",
   "execution_count": null,
   "metadata": {},
   "outputs": [],
   "source": [
    "# which only applies to Simone\n",
    "Arno.hair"
   ]
  },
  {
   "cell_type": "code",
   "execution_count": null,
   "metadata": {},
   "outputs": [],
   "source": [
    "# a class variable\n",
    "Person.genus = 'Homo'\n",
    "Arno.genus"
   ]
  },
  {
   "cell_type": "code",
   "execution_count": null,
   "metadata": {},
   "outputs": [],
   "source": [
    "# which applies to everyone\n",
    "Simone.genus"
   ]
  },
  {
   "cell_type": "markdown",
   "metadata": {},
   "source": [
    "### Methods\n",
    "\n",
    "As we have seen, objects (i.e. classes) encapsulate data in the form of class and instance variables. In particular as for the instance variables, this basically amounts to prescribing a common *structure* to the data, which can however be filled in with different values for each instance.\n",
    "\n",
    "The second type of entity encapsulated by objects are functions; a function associated with a class is called a **method** (this difference in naming is really only to distinguish \"stand-alone\" functions from those associated with a class). Class methods are defined in the (indented) body of the class:"
   ]
  },
  {
   "cell_type": "code",
   "execution_count": null,
   "metadata": {},
   "outputs": [],
   "source": [
    "class Speaker(object):\n",
    "    def greet(self, who):\n",
    "        print('Hello {}'.format(who))"
   ]
  },
  {
   "cell_type": "markdown",
   "metadata": {},
   "source": [
    "Methods are accessed in the same way as variables (with dot-accessor syntax), which is why both methods and variables together are generally referred to as `attributes`:"
   ]
  },
  {
   "cell_type": "code",
   "execution_count": null,
   "metadata": {},
   "outputs": [],
   "source": [
    "Me = Speaker()\n",
    "Me.greet(\"Shelley\")"
   ]
  },
  {
   "cell_type": "markdown",
   "metadata": {},
   "source": [
    "Notice how the method definition references two arguments, whereas the call (`greet(\"Shelley\")`) only has one. The first argument in a method definition is conventionally called `self`, although in principle you could name it however you want (but, don't... sticking to convention makes understanding other people's code a lot easier). It is the name which you can use in your internal method definitions to refer to the object instance itself. If you want to access an instance variable inside a method (which is more or less the whole point), you will simply access it from the `self` object. It is present in the method definition for that reason - so you can access the instance's variables and methods - but you do not give this argument when you call the method on an object instance; Python fills this in for you automatically. Method *calls* have therefore always one argument less than their definition.\n",
    "\n",
    "With this knowledge, let us once more look at the original `Person`:"
   ]
  },
  {
   "cell_type": "code",
   "execution_count": null,
   "metadata": {},
   "outputs": [],
   "source": [
    "class Person(object):\n",
    "    def __init__(self, nat):\n",
    "        self.nationality = nat"
   ]
  },
  {
   "cell_type": "markdown",
   "metadata": {},
   "source": [
    "The class declaration here contains also the definition of a method called `__init__`. This is a name that has a special meaning to the Python interpreter; by using it, you tell the interpreter that this method implements a particular operation - in this case the instantiation of the object. The `__init__` method is what the interpreter internally calls when you instantiate a class by calling its name. It is customarily used in order to populate whatever instance variables you want to populate on instance creating, and carry out any other tasks you deem necessary for that purpose. As with other methods, it receives the additional `self` in the definition so that you can attach the variables to the instance being created; and as with other methods, this argument is missing from the actual instantiation *call* (or rather, filled in automatically by Python).\n",
    "\n",
    "(In general parlance, a method that initializes an object is also called a *constructor*.)\n",
    "\n",
    "You may notice that the definition of `Speaker` did not contain an `__init__` method. This is so because Python, under the hood, will always provide a default implementation; so even if you don't define it, it is there - you just don't have an opportunity to populate instance variables in that case.\n",
    "\n",
    "The mechanism by which Python provides a default constructor is the second aspect of OOP I want to talk about: inheritance.\n",
    "\n",
    "### Class inheritance\n",
    "\n",
    "Inheritance provides a way to structure your code such as to keep the need to repeat yourself to a minimum. Again, an example will make this more digestible:"
   ]
  },
  {
   "cell_type": "code",
   "execution_count": null,
   "metadata": {},
   "outputs": [],
   "source": [
    "class Animal(object):\n",
    "    def eat(self, fodder):\n",
    "        print(\"I'm eating {}\".format(fodder))\n",
    "        \n",
    "class Dog(Animal):\n",
    "    def bark(self):\n",
    "        print(\"Woof!\")\n",
    "        \n",
    "class Cat(Animal):\n",
    "    def meow(self):\n",
    "        print(\"Meow!\")"
   ]
  },
  {
   "cell_type": "markdown",
   "metadata": {},
   "source": [
    "In this example, `Dog` and `Cat` **inherit** from `Animal`. Another frequently used way to express this is to say that `Cat` and `Dog` are **subclasses** of `Animal`.\n",
    "\n",
    "Subclasses inherit functionality (and variables, examples of which we have left out here for simplicity) from their *parents*. All Animals eat:"
   ]
  },
  {
   "cell_type": "code",
   "execution_count": null,
   "metadata": {},
   "outputs": [],
   "source": [
    "Waldi = Dog()\n",
    "Waldi.eat('sausage')"
   ]
  },
  {
   "cell_type": "code",
   "execution_count": null,
   "metadata": {},
   "outputs": [],
   "source": [
    "Mimi.eat('fish')"
   ]
  },
  {
   "cell_type": "markdown",
   "metadata": {},
   "source": [
    "But only cats meow:"
   ]
  },
  {
   "cell_type": "code",
   "execution_count": null,
   "metadata": {},
   "outputs": [],
   "source": [
    "Mimi = Cat()\n",
    "Mimi.meow()"
   ]
  },
  {
   "cell_type": "markdown",
   "metadata": {},
   "source": [
    "And only dogs bark:"
   ]
  },
  {
   "cell_type": "code",
   "execution_count": null,
   "metadata": {},
   "outputs": [],
   "source": [
    "Waldi.bark()"
   ]
  },
  {
   "cell_type": "markdown",
   "metadata": {},
   "source": [
    "**<span style=\"color:red\">The parent class is given in parentheses in the class definition.</span>** Which also tells you where the `object` in the basic class definition comes from: It's the most \"basic\" object there is in Python, from which all other objects inherit. This `object` class comes with some basic functionality common to all objects in Python, including an `__init__` method, so that even classes defined without on can be instantiated without problem.\n",
    "\n",
    "If you define your own `__init__` method, you **override** the one provided by the fundamental `object`. That's another aspect of inheritance: **<span style=\"color:red\">functions defined by a subclass replace any of the same name that might exist on the parent:</span>**"
   ]
  },
  {
   "cell_type": "code",
   "execution_count": null,
   "metadata": {},
   "outputs": [],
   "source": [
    "class Dog(Animal):\n",
    "    def eat(self, fodder):\n",
    "        print(\"Actually, I'm not eating {}.\".format(fodder))\n",
    "        \n",
    "Tinkerbell = Dog()\n",
    "Tinkerbell.eat(\"shit\")"
   ]
  },
  {
   "cell_type": "markdown",
   "metadata": {},
   "source": [
    "I is very common, however, that you don't want to override a method completely - after all, once you've \"overwritten\" its definition, you can't call the original method anymore. Rather, you might want to *add* some functionality to it. This is particularly frequently the case for `__init__` methods. For this reason, you can call the original method from within the definition of its replacement, as in the following example:"
   ]
  },
  {
   "cell_type": "code",
   "execution_count": null,
   "metadata": {},
   "outputs": [],
   "source": [
    "class Man(Person):\n",
    "    def __init__(self, nat):\n",
    "        super().__init__(nat)\n",
    "        self.gender = 'masculine'\n",
    "        \n",
    "Alvaro = Man('Chilean')"
   ]
  },
  {
   "cell_type": "markdown",
   "metadata": {},
   "source": [
    "The function `super()` returns the parent (I will not go into details here), and calling its `__init__` method initializes the `nationality` attribute of the parent class (`Person`), which will therefore also exist on its subclass `Man`."
   ]
  },
  {
   "cell_type": "code",
   "execution_count": null,
   "metadata": {},
   "outputs": [],
   "source": [
    "Alvaro.nationality"
   ]
  },
  {
   "cell_type": "markdown",
   "metadata": {},
   "source": [
    "But we added another instance variable in the subclasse's constructor:"
   ]
  },
  {
   "cell_type": "code",
   "execution_count": null,
   "metadata": {},
   "outputs": [],
   "source": [
    "Alvaro.gender"
   ]
  },
  {
   "cell_type": "markdown",
   "metadata": {},
   "source": [
    "There are many more facets to OOP and its particular implementation in Python; I will just mention in passing a few more points.\n",
    "\n",
    "#### Class methods\n",
    "\n",
    "As with instance and class variables, there are also class methods. The difference to instance methods is that class methods can be called on uninstantiated classes, whereas instance methods cannot. For that reason, class methods receive as their first argument the class, not the instance, and have no access to instance variables (obviously). It is customary to refer to that class argument as `cls`, similar to the `self` in the instance methods - from this `cls` object, class variables **can** be accessed."
   ]
  },
  {
   "cell_type": "code",
   "execution_count": null,
   "metadata": {},
   "outputs": [],
   "source": [
    "class Person(object):\n",
    "    def __init__(self, name):\n",
    "        self.name = name\n",
    "    def greet(self, other):\n",
    "        print(\"Hello {}, I'm {}\".format(other, self.name))\n",
    "        \n",
    "    @classmethod\n",
    "    def shout(cls, what):\n",
    "        print(what)\n",
    "        \n",
    "Arno = Person('Arno')\n",
    "Arno.greet('Shelley')"
   ]
  },
  {
   "cell_type": "code",
   "execution_count": null,
   "metadata": {},
   "outputs": [],
   "source": [
    "# call from the class\n",
    "Person.shout('Help!')"
   ]
  },
  {
   "cell_type": "code",
   "execution_count": null,
   "metadata": {},
   "outputs": [],
   "source": [
    "# call from the instance\n",
    "Arno.shout('I can shout too!')"
   ]
  },
  {
   "cell_type": "markdown",
   "metadata": {},
   "source": [
    "The statement `@classmethod` is another element of Python called a **\"decorator\"** - it \"decorates\" the method definition which turns it into a classmethod. There are decorators for other purposes, too, and you can also define your own decorators - but we will not get into this at this point (decorators exist merely for convenience rather than necessity - such language elements are usually referred to as \"syntactic sugar\").\n",
    "\n",
    "#### Mixins\n",
    "\n",
    "One can also combine the capabilities of several classes together, a technique called \"mixins\" in general parlance. Without going into details, here's an example:"
   ]
  },
  {
   "cell_type": "code",
   "execution_count": null,
   "metadata": {},
   "outputs": [],
   "source": [
    "class CatDog(Cat, Dog):\n",
    "    pass\n",
    "\n",
    "Christ = CatDog()\n",
    "Christ.meow() # Btw, we overrode the definition of Dog, so it doesn't actually bark anymore..."
   ]
  },
  {
   "cell_type": "markdown",
   "metadata": {},
   "source": [
    "# Elements of style (2)\n",
    "\n",
    "## 7. Private & protected variable names\n",
    "\n",
    "Different OO languages often know concepts called \"private\" and/or \"protected\" variables or similar. A basic motivation behind OOP is that code created by one programmer can be used by another one without knowing any of the details: The \"object\" encapsulates the (hopefully documented) functionality, and whoever uses your object only needs to know **what** the method accomplishes, not **how**. For that reason, many languages include a provision for instance variables on objects that are not visible from the \"outside\" and only used in the internal workings of the object.\n",
    "\n",
    "Python does not actually implement anything of the sort; in fact, it is part of the philosophy and appeal of Python that it is extremely \"transparent\". You can always have a look at other people's classes and will always be able to access all of their attributes and methods. That being said, a convention exists that names beginning with underscores are to be considered protected and private:\n",
    "- single underscore: \"protected\"\n",
    "- double underscore: \"private\"\n",
    "\n",
    "I mention this here only so you can better understand other peoples' code in case they abide by this convention - it is not really important in Python.\n",
    "\n",
    "## 8. Special ('magic') method names\n",
    "\n",
    "More important are names which are flanked by double underscores on either side, such as `__init__()`. There is a number of such names which have variety of purposes - not all are methods (they are sometimes called 'magics'). For example,"
   ]
  },
  {
   "cell_type": "code",
   "execution_count": null,
   "metadata": {},
   "outputs": [],
   "source": [
    "__name__"
   ]
  },
  {
   "cell_type": "markdown",
   "metadata": {},
   "source": [
    "is a variable that is populated automatically by Python according to the type of code which is currently being run (`__main__` means we're in a script - more on that later).\n",
    "\n",
    "One more example to illustrate what this is all about. Imagine you want to define an object that does something when you \"call\" it like you do when you instantiate it:"
   ]
  },
  {
   "cell_type": "code",
   "execution_count": null,
   "metadata": {},
   "outputs": [],
   "source": [
    "class Caller(object):\n",
    "    def __call__(self, other):\n",
    "        print(\"Call {}\".format(other))\n",
    "        \n",
    "You = Caller()\n",
    "You('me')"
   ]
  },
  {
   "cell_type": "markdown",
   "metadata": {},
   "source": [
    "Defining a method named `__call__` on the class tells Python to call this method when you call the object. Needless to say, this is another example of syntactic sugar.\n",
    "\n",
    "# Digression: everything is an object\n",
    "\n",
    "Btw, we now have the necessary background to explain the statements I have used in many of the example classes. The function `print()` simply prints something to the output (stdout, to be precise, but let's not delve into that). The `format` call, however, refers to a method defined on strings. When I write: `\"Hello {}\".format(\"world\")`, I first create a string object (`\"Hello {}\"`), and then call the method `format()` on that object. The character sequence `\"{}\"` within the string gets replaced by a formatted version of the argument to `format()`. One could, more explicitely, write:"
   ]
  },
  {
   "cell_type": "code",
   "execution_count": null,
   "metadata": {},
   "outputs": [],
   "source": [
    "a = \"Hello {}.\"\n",
    "a.format(\"world\")"
   ]
  },
  {
   "cell_type": "markdown",
   "metadata": {},
   "source": [
    "I won't go into the details of the `format()` method, but I will mention it can take an arbitrary number of replacements / arguments:"
   ]
  },
  {
   "cell_type": "code",
   "execution_count": null,
   "metadata": {},
   "outputs": [],
   "source": [
    "\"Hello {}, {} and {}!\".format(\"Shelley\", \"Simone\", \"Alvaro\")"
   ]
  },
  {
   "cell_type": "markdown",
   "metadata": {},
   "source": [
    "This illustrates another point and the reason for why I talked about OOP before introducing the more benign elements of Python: in Python, everything is an object. While a distinction is made in principle between the built-in \"types\" I have talked about before and \"proper\" objects (the idea being that \"types\" are something more basic and fundamental, corresponding to the \"types\" of other programming languages), in reality, even types are implemented under the hood as objects. The only difference lies in how we talk about them syntactically: I write `a = 1` or `name = \"Arno\"` instead of instantiating an object and giving some instance variable of it a value - but that's what Python is doing under the hood.\n",
    "\n",
    "This is also how Python deals with any operation that may apply to an object, such as mathematical operations: A number object, for example, has a method called `__add__` defined on it, which is what Python calls when it encounters the symbol `+`. We can use this fact to define our own objects' behavior when subjected to a `+`:"
   ]
  },
  {
   "cell_type": "code",
   "execution_count": null,
   "metadata": {},
   "outputs": [],
   "source": [
    "class Lier(object):\n",
    "    def __init__(self, value):\n",
    "        self._value = value\n",
    "    def __add__(self, other):\n",
    "        return self._value - other._value\n",
    "\n",
    "a = Lier(2)\n",
    "b = Lier(4)\n",
    "a + b"
   ]
  },
  {
   "cell_type": "markdown",
   "metadata": {},
   "source": [
    "# Language basics\n",
    "\n",
    "Now, to the actual language elements.\n",
    "\n",
    "## Containers\n",
    "\n",
    "### Lists\n",
    "\n",
    "Lists hold an ordered collection of other objects which are accessible by index. Lists can dynamically grow and shrink."
   ]
  },
  {
   "cell_type": "code",
   "execution_count": null,
   "metadata": {},
   "outputs": [],
   "source": [
    "a = [1, 2, 3, 4, 5]"
   ]
  },
  {
   "cell_type": "markdown",
   "metadata": {},
   "source": [
    "Element access is denoted by square brackets:"
   ]
  },
  {
   "cell_type": "code",
   "execution_count": null,
   "metadata": {},
   "outputs": [],
   "source": [
    "a[0]"
   ]
  },
  {
   "cell_type": "markdown",
   "metadata": {},
   "source": [
    "**<span style=\"color:red\">Python is a 0-indexed language (unlike Matlab, which is 1-indexed).</span>** To access several elements, a \"slice\" notation exists:"
   ]
  },
  {
   "cell_type": "code",
   "execution_count": null,
   "metadata": {},
   "outputs": [],
   "source": [
    "a[0:2]"
   ]
  },
  {
   "cell_type": "markdown",
   "metadata": {},
   "source": [
    "**<span style=\"color:red\">Slices include the start, but exclude the end</span>**, i.e. above notation returns elements at positions 0 and 1, but not 2: the slice `a:b` corresponds to the interval $[a, b)$."
   ]
  },
  {
   "cell_type": "code",
   "execution_count": null,
   "metadata": {},
   "outputs": [],
   "source": [
    "# Do you want to know how it is implemented internally? Try:\n",
    "a[slice(1, 3)]"
   ]
  },
  {
   "cell_type": "code",
   "execution_count": null,
   "metadata": {},
   "outputs": [],
   "source": [
    "# Also, how do you think the bracket operator [] works? Via a double-underscore method, of course:\n",
    "a.__getitem__(1)"
   ]
  },
  {
   "cell_type": "markdown",
   "metadata": {},
   "source": [
    "Slices can have a step size (`start:end:step`):"
   ]
  },
  {
   "cell_type": "code",
   "execution_count": null,
   "metadata": {},
   "outputs": [],
   "source": [
    "a[0:5:2]"
   ]
  },
  {
   "cell_type": "markdown",
   "metadata": {},
   "source": [
    "And start and end can be ommitted:"
   ]
  },
  {
   "cell_type": "code",
   "execution_count": null,
   "metadata": {},
   "outputs": [],
   "source": [
    "a[:3]"
   ]
  },
  {
   "cell_type": "code",
   "execution_count": null,
   "metadata": {},
   "outputs": [],
   "source": [
    "a[3:]"
   ]
  },
  {
   "cell_type": "markdown",
   "metadata": {},
   "source": [
    "Finally, negative indexes in Python count from the back:"
   ]
  },
  {
   "cell_type": "code",
   "execution_count": null,
   "metadata": {},
   "outputs": [],
   "source": [
    "a[-1]"
   ]
  },
  {
   "cell_type": "code",
   "execution_count": null,
   "metadata": {},
   "outputs": [],
   "source": [
    "a[-2]"
   ]
  },
  {
   "cell_type": "markdown",
   "metadata": {},
   "source": [
    "Assignment is also possible:"
   ]
  },
  {
   "cell_type": "code",
   "execution_count": null,
   "metadata": {},
   "outputs": [],
   "source": [
    "a[0] = 'aww'\n",
    "a[1] = Waldi\n",
    "a[2] = [10, 11, 12]\n",
    "a"
   ]
  },
  {
   "cell_type": "markdown",
   "metadata": {},
   "source": [
    "and as you can see, different types can be mixed and lists can contain any object, including other lists.\n",
    "\n",
    "Lists have a number of methods defined on them, here are a few:"
   ]
  },
  {
   "cell_type": "code",
   "execution_count": null,
   "metadata": {},
   "outputs": [],
   "source": [
    "a.append('more')\n",
    "a"
   ]
  },
  {
   "cell_type": "code",
   "execution_count": null,
   "metadata": {},
   "outputs": [],
   "source": [
    "a.insert(0, 'beginning')\n",
    "a.insert(1, 'next')\n",
    "a"
   ]
  },
  {
   "cell_type": "markdown",
   "metadata": {},
   "source": [
    "To find how long a list is, use the built-in function `len()`:"
   ]
  },
  {
   "cell_type": "code",
   "execution_count": null,
   "metadata": {},
   "outputs": [],
   "source": [
    "len(a)"
   ]
  },
  {
   "cell_type": "markdown",
   "metadata": {},
   "source": [
    "To remove an element if you know its value:"
   ]
  },
  {
   "cell_type": "code",
   "execution_count": null,
   "metadata": {},
   "outputs": [],
   "source": [
    "a.remove('beginning')\n",
    "a"
   ]
  },
  {
   "cell_type": "markdown",
   "metadata": {},
   "source": [
    "To remove an element if you know its position:"
   ]
  },
  {
   "cell_type": "code",
   "execution_count": null,
   "metadata": {},
   "outputs": [],
   "source": [
    "del a[-1]\n",
    "a"
   ]
  },
  {
   "cell_type": "markdown",
   "metadata": {},
   "source": [
    "\"Popping\" and element removes it from the list and returns it:"
   ]
  },
  {
   "cell_type": "code",
   "execution_count": null,
   "metadata": {},
   "outputs": [],
   "source": [
    "b = a.pop(2) # at position 2\n",
    "b"
   ]
  },
  {
   "cell_type": "markdown",
   "metadata": {},
   "source": [
    "The list no longer contains the popped element:"
   ]
  },
  {
   "cell_type": "code",
   "execution_count": null,
   "metadata": {},
   "outputs": [],
   "source": [
    "a"
   ]
  },
  {
   "cell_type": "markdown",
   "metadata": {},
   "source": [
    "The default argument to `pop` is the position `-1`:"
   ]
  },
  {
   "cell_type": "code",
   "execution_count": null,
   "metadata": {},
   "outputs": [],
   "source": [
    "a.pop()"
   ]
  },
  {
   "cell_type": "markdown",
   "metadata": {},
   "source": [
    "Lastly, an empty list is created by `a = []`."
   ]
  },
  {
   "cell_type": "markdown",
   "metadata": {},
   "source": [
    "### Tuples\n",
    "\n",
    "Tuples are simply *immuatable* lists - once created, they cannot be changed anymore, neither as for the value of individual elements nor in terms of length. They are denoted by round instead of square brackets:"
   ]
  },
  {
   "cell_type": "code",
   "execution_count": null,
   "metadata": {},
   "outputs": [],
   "source": [
    "a = (1, 2, 3, 4, 5)\n",
    "a"
   ]
  },
  {
   "cell_type": "markdown",
   "metadata": {},
   "source": [
    "Elements are accessed in the same way as with lists (with square brackets, including slice notation):"
   ]
  },
  {
   "cell_type": "code",
   "execution_count": null,
   "metadata": {},
   "outputs": [],
   "source": [
    "a[0]"
   ]
  },
  {
   "cell_type": "markdown",
   "metadata": {},
   "source": [
    "\"Implicit\" tuple notation (with parentheses omitted) abounds in Python code:"
   ]
  },
  {
   "cell_type": "code",
   "execution_count": null,
   "metadata": {},
   "outputs": [],
   "source": [
    "a = 1, 2\n",
    "a"
   ]
  },
  {
   "cell_type": "markdown",
   "metadata": {},
   "source": [
    "The rationale behind the existence of tuples is that lists, with all of their capabilities (growing, shrinking, replacing values - their *mutability*), are very inefficient - there's always a lot going on behind the scenes. Tuples are a more bare-boned container without much functionality, which can use if you need to group some values together, but not much more.\n",
    "\n",
    "Tuples can be used as a syntactic element to make some type of code more readable (of course, this is not very \"efficient\" either, but that usually doesn't matter):"
   ]
  },
  {
   "cell_type": "code",
   "execution_count": null,
   "metadata": {},
   "outputs": [],
   "source": [
    "# Implicitely, this constructs two tuples and assigns the elements of (1, 2) to (a, b)\n",
    "a, b = 1, 2"
   ]
  },
  {
   "cell_type": "code",
   "execution_count": null,
   "metadata": {},
   "outputs": [],
   "source": [
    "a"
   ]
  },
  {
   "cell_type": "code",
   "execution_count": null,
   "metadata": {},
   "outputs": [],
   "source": [
    "b"
   ]
  },
  {
   "cell_type": "markdown",
   "metadata": {},
   "source": [
    "Lastly, in the special case of a tuple with a single element, you need to use the notation `a = (1,)` in order to avoide confusion with other situations involving parentheses. (Unlike with empty lists, which can subsequently populated, and emtpy tuple makes no sense whatsoever.)"
   ]
  },
  {
   "cell_type": "markdown",
   "metadata": {},
   "source": [
    "### Dictionaries\n",
    "\n",
    "The third container type in Python is the dictionary, a data structure sometimes also referred to as a *mapping type* because it *maps* one value to another. It can be though of as similar to a list, but with elements not accessed by their **order**, but by a **key**. In again another way of expressing it, a dictionary contains *key-value pairs*."
   ]
  },
  {
   "cell_type": "code",
   "execution_count": null,
   "metadata": {},
   "outputs": [],
   "source": [
    "a = {'a': 5, 'b': 6}\n",
    "a"
   ]
  },
  {
   "cell_type": "markdown",
   "metadata": {},
   "source": [
    "This maps the key `'a'` to the value `5` and the key `'b'` to the value `6`:"
   ]
  },
  {
   "cell_type": "code",
   "execution_count": null,
   "metadata": {},
   "outputs": [],
   "source": [
    "a['a']"
   ]
  },
  {
   "cell_type": "code",
   "execution_count": null,
   "metadata": {},
   "outputs": [],
   "source": [
    "a['b']"
   ]
  },
  {
   "cell_type": "markdown",
   "metadata": {},
   "source": [
    "You can add elements after the creation of the dictionare, and overwrite existing ones:"
   ]
  },
  {
   "cell_type": "code",
   "execution_count": null,
   "metadata": {},
   "outputs": [],
   "source": [
    "a[7] = 8\n",
    "a"
   ]
  },
  {
   "cell_type": "markdown",
   "metadata": {},
   "source": [
    "In this case, the key is the number 7 (which btw is different from the - quoted - *character* `'7'`).\n",
    "\n",
    "**<span style=\"color:red\">Anything can serve as key or value.</span>**."
   ]
  },
  {
   "cell_type": "code",
   "execution_count": null,
   "metadata": {},
   "outputs": [],
   "source": [
    "a[Mimi] = Cat\n",
    "a"
   ]
  },
  {
   "cell_type": "markdown",
   "metadata": {},
   "source": [
    "Here, the key is the Cat-instance `Mimi`, and the value is the *class* `Cat`.\n",
    "\n",
    "Btw, many objects, including `dict`s, have a \"length\" attribute that can be queried with the `len` function:"
   ]
  },
  {
   "cell_type": "code",
   "execution_count": null,
   "metadata": {},
   "outputs": [],
   "source": [
    "len(a)"
   ]
  },
  {
   "cell_type": "markdown",
   "metadata": {},
   "source": [
    "\n",
    "\n",
    "## Conditional statements\n",
    "\n",
    "There is only one type of conditional statement (plus a syntactic-sugar variant of it) in Python. It has the form:"
   ]
  },
  {
   "cell_type": "code",
   "execution_count": null,
   "metadata": {},
   "outputs": [],
   "source": [
    "a = 1\n",
    "\n",
    "if a == 1:\n",
    "    print(\"one\")\n",
    "elif a == 2:\n",
    "    print(\"two\")\n",
    "else:\n",
    "    print(\"neither\")"
   ]
  },
  {
   "cell_type": "markdown",
   "metadata": {},
   "source": [
    "The `elif` and `else` parts of the statement are optional. There can be multiple `elif` clauses if necessary.\n",
    "\n",
    "### Comparison operators\n",
    "\n",
    "- `==` tests for equality (remember, the single `=` is the *assignment operator*)\n",
    "- `>`, `<`, `>=`, `<=` are self-explanatory\n",
    "- `!=` tests for *not equal*\n",
    "- there is also the keyword `is` which is recommended in particular for use with booleans (see below) and in order to test whether a value is equal to `None`:"
   ]
  },
  {
   "cell_type": "code",
   "execution_count": null,
   "metadata": {},
   "outputs": [],
   "source": [
    "a = None\n",
    "\n",
    "if a is None:\n",
    "    print(\"It's nothing!\")"
   ]
  },
  {
   "cell_type": "markdown",
   "metadata": {},
   "source": [
    "Testing for the opposite of `None` is intuitive:"
   ]
  },
  {
   "cell_type": "code",
   "execution_count": null,
   "metadata": {},
   "outputs": [],
   "source": [
    "a = \"whatever\"\n",
    "\n",
    "if a is not None:\n",
    "    print(a)"
   ]
  },
  {
   "cell_type": "markdown",
   "metadata": {},
   "source": [
    "### Booleans\n",
    "\n",
    "Conditional statements evaluate to boolean expressions, which, in Python, are `True` and `False`. Booleans can also be used directly in conditionals (which will mostly occur if the result of some operation is a boolean and has been assigned to a variable):"
   ]
  },
  {
   "cell_type": "code",
   "execution_count": null,
   "metadata": {},
   "outputs": [],
   "source": [
    "a = True\n",
    "if a:\n",
    "    print(\"true\")"
   ]
  },
  {
   "cell_type": "markdown",
   "metadata": {},
   "source": [
    "### Syntactic sugar etc\n",
    "\n",
    "Btw, in cases where there is a colon at the end of a line, the new line plus indentation is not strictly necessary (although nonetheless usually recommended for readability."
   ]
  },
  {
   "cell_type": "code",
   "execution_count": null,
   "metadata": {},
   "outputs": [],
   "source": [
    "if a: print(a)"
   ]
  },
  {
   "cell_type": "markdown",
   "metadata": {},
   "source": [
    "As I mentioned in the beginning, there is also a sugary variant of the conditional statement, sometimes called the *ternary operator* (it exists in many languages). It takes the form:"
   ]
  },
  {
   "cell_type": "code",
   "execution_count": null,
   "metadata": {},
   "outputs": [],
   "source": [
    "b = 2 if a==4 else 3\n",
    "b"
   ]
  },
  {
   "cell_type": "markdown",
   "metadata": {},
   "source": [
    "This statement is equivalent to:"
   ]
  },
  {
   "cell_type": "code",
   "execution_count": null,
   "metadata": {},
   "outputs": [],
   "source": [
    "if a==4:\n",
    "    b = 2\n",
    "else:\n",
    "    b = 3\n",
    "b"
   ]
  },
  {
   "cell_type": "markdown",
   "metadata": {},
   "source": [
    "## Loops\n",
    "\n",
    "There are two types of loop in Python.\n",
    "\n",
    "### For-loops"
   ]
  },
  {
   "cell_type": "code",
   "execution_count": null,
   "metadata": {},
   "outputs": [],
   "source": [
    "a = [4, 7, 10.5]\n",
    "for i in a:\n",
    "    print(i)\n",
    "\n",
    "# after the loop: de-indent"
   ]
  },
  {
   "cell_type": "markdown",
   "metadata": {},
   "source": [
    "The meaning of the statement is that it iterates over the elements in `a` one at a time, assigning each iteration's element to `i`. The code *block* to be executed for each iteration is, as usual, delimited by indentation - **<span style=\"color:red\">and the end of the loop is marked by de-indentation</span>**.\n",
    "\n",
    "Of course, the name you give to the element is up to you:"
   ]
  },
  {
   "cell_type": "code",
   "execution_count": null,
   "metadata": {},
   "outputs": [],
   "source": [
    "for element in a:\n",
    "    print(element)"
   ]
  },
  {
   "cell_type": "markdown",
   "metadata": {},
   "source": [
    "Also, the container to be iterated over does not have to be assigned to a variable beforehand, it can be constructed on the fly, *anonymously*:"
   ]
  },
  {
   "cell_type": "code",
   "execution_count": null,
   "metadata": {},
   "outputs": [],
   "source": [
    "for el in [1, 2, 3]:\n",
    "    print(el)"
   ]
  },
  {
   "cell_type": "markdown",
   "metadata": {},
   "source": [
    "Container types which support iteration are called, surprisingly, **iterators** and are not limited to lists. (Want to guess how an iterator is constructed? It's an object that implements a method named `__iter__`.)\n",
    "\n",
    "Since a very common pattern in programming is simply to loop over a block a given number of times, there is a function that is provided for this purpose:"
   ]
  },
  {
   "cell_type": "code",
   "execution_count": null,
   "metadata": {},
   "outputs": [],
   "source": [
    "for i in range(3):\n",
    "    print(i)"
   ]
  },
  {
   "cell_type": "markdown",
   "metadata": {},
   "source": [
    "This function, `range`, is another type of Pythonic object called a **generator**, because unlike the *iterator* which holds all of its elements in memory, the generator simply produces a value one at a time when the interpreter requests it (here, by incrementing a counter by one). \n",
    "\n",
    "This can be seen by looking at the return value of `range` directly:"
   ]
  },
  {
   "cell_type": "code",
   "execution_count": null,
   "metadata": {},
   "outputs": [],
   "source": [
    "range(3)"
   ]
  },
  {
   "cell_type": "markdown",
   "metadata": {},
   "source": [
    "Which is just the way that Python3 describes the range object. If you wrap the range generator in the constructor for a `list`, though, the result is a list containing the elements produced by `range`:"
   ]
  },
  {
   "cell_type": "code",
   "execution_count": null,
   "metadata": {},
   "outputs": [],
   "source": [
    "list(range(3))"
   ]
  },
  {
   "cell_type": "markdown",
   "metadata": {},
   "source": [
    "(Again, you see that when you write `a = [1, 2, 3]` this just signals the interpreter to call the constructor of the `list` object.)\n",
    "\n",
    "Now we can inspect the arguments that `range` can take:"
   ]
  },
  {
   "cell_type": "code",
   "execution_count": null,
   "metadata": {},
   "outputs": [],
   "source": [
    "list(range(3, 5))"
   ]
  },
  {
   "cell_type": "code",
   "execution_count": null,
   "metadata": {},
   "outputs": [],
   "source": [
    "list(range(0, 5, 2))"
   ]
  },
  {
   "cell_type": "markdown",
   "metadata": {},
   "source": [
    "As you can see, the argument list to the `range` function has the same meaning as for the slice notation `start:end:step`: it is `range(start, end, step)` with the `end` and `step` being optional. As with the slice (which, as I have shown you before, is internally implemented with the `slice(start, end, step)` function anyways, which has exactly the same signature as `range`), the interval of iteration includes the `start` but excludes the `end`. Negative integers are allowed, including for the step:"
   ]
  },
  {
   "cell_type": "code",
   "execution_count": null,
   "metadata": {},
   "outputs": [],
   "source": [
    "list(range(5, 0, -1))"
   ]
  },
  {
   "cell_type": "markdown",
   "metadata": {},
   "source": [
    "As a final comment, the existence of the `range` function has to do with the fact that Python tries to keep things simple and provides only one form for the *for loop*, instead of several different ones as is often the case with other languages.\n",
    "\n",
    "It happens occasionally that syntax requires you to accept a variable, like the numbers returned by the `range` function, but you don't really \"need\" its value - e.g. if you need a certain number of iterations, but you don't need to know which iteration you're in. In those cases, it is idiomatic in Python to assign the value to a variable called `_` (underscore):"
   ]
  },
  {
   "cell_type": "code",
   "execution_count": null,
   "metadata": {},
   "outputs": [],
   "source": [
    "for _ in range(3):\n",
    "    print(\"I don't know which iteration I'm at, but I'll do it 3 times.\")"
   ]
  },
  {
   "cell_type": "markdown",
   "metadata": {},
   "source": [
    "**<span style=\"color:red\">One word of warning: While it is <span style=\"color:green\">possible</span> in Python to modify the contents of an `iterable` while looping over it, that's certainly not <span style=\"color:green\">advisable</span>, because it may lead to unexpected results (many other languages explicitly forbid this).</span>**"
   ]
  },
  {
   "cell_type": "markdown",
   "metadata": {},
   "source": [
    "### while-loops\n",
    "\n",
    "The *while loop* is executed as long as a condition is `True`:"
   ]
  },
  {
   "cell_type": "code",
   "execution_count": null,
   "metadata": {},
   "outputs": [],
   "source": [
    "a = 0\n",
    "\n",
    "while a < 4:\n",
    "    print(a)\n",
    "    a += 1"
   ]
  },
  {
   "cell_type": "markdown",
   "metadata": {},
   "source": [
    "Btw, `a += 1` is syntactic sugar for `a = a + 1`, and for the other arithmetic operations, a corresponding syntax exsist: `-=`, `*=`, `/=`. However, this is actually an example of non-standard Python that might not be available in all Python implementations (it is in \"CPython\", which really is the only one you'll be likely to encounter, but there are other Python flavors, like \"Jython\" and \"PyPy\").\n",
    "\n",
    "### Exiting a loop\n",
    "\n",
    "Sometimes, you want to **exit** a loop depending on a condition you encounter during the iteration, or you might want to **skip** an iteration. If you want to \"break out\" of a loop completely, you use the `break` keyword, while if you want to skip an iteration and continue with the next one, you use `continue`.\n",
    "\n",
    "I will demonstrate `break`ing with a common idiom in Python (which however is often discouraged in other languages because of the high likelihood of getting stuck in infinite loops):"
   ]
  },
  {
   "cell_type": "code",
   "execution_count": null,
   "metadata": {},
   "outputs": [],
   "source": [
    "a = 1\n",
    "while True:\n",
    "    a += 2\n",
    "    print(a)\n",
    "    if a > 10:\n",
    "        break"
   ]
  },
  {
   "cell_type": "markdown",
   "metadata": {},
   "source": [
    "Because the condition to the `while` statement is hard-coded to `True` here, it could easily happen that the loop continues forever; however, because of the \"simplicity\" philosophy of Python, this is the most common way to implement a loop if you don't know beforehand how many iterations you will need to perform.\n",
    "\n",
    "The `continue` statement looks as follows:"
   ]
  },
  {
   "cell_type": "code",
   "execution_count": null,
   "metadata": {},
   "outputs": [],
   "source": [
    "for i in range(4):\n",
    "    if i==2:\n",
    "        continue\n",
    "    print(i)"
   ]
  },
  {
   "cell_type": "markdown",
   "metadata": {},
   "source": [
    "## List and dictionary comprehensions\n",
    "\n",
    "We now have all the knowledge to introduce the sweetest sugary treat of them all: *list comprehensions*.\n",
    "\n",
    "Oftentimes you need to loop over some elements of a container, do something to each element, and assign the results to a new container. An example:"
   ]
  },
  {
   "cell_type": "code",
   "execution_count": null,
   "metadata": {},
   "outputs": [],
   "source": [
    "a = [1, 2, 3, 4]\n",
    "b = [i+10 for i in a]\n",
    "b"
   ]
  },
  {
   "cell_type": "markdown",
   "metadata": {},
   "source": [
    "The expression inside the `list` brackets `[]` means: iterate over the elements of `a`, assigning each in turn to the name `i`, add `10` to each element, and assigne the overall result to the name `b`. Of course, the naming is up to youL"
   ]
  },
  {
   "cell_type": "code",
   "execution_count": null,
   "metadata": {},
   "outputs": [],
   "source": [
    "c = [element-10 for element in b]\n",
    "c"
   ]
  },
  {
   "cell_type": "markdown",
   "metadata": {},
   "source": [
    "The idiom is also available for dictionaries:"
   ]
  },
  {
   "cell_type": "code",
   "execution_count": null,
   "metadata": {},
   "outputs": [],
   "source": [
    "d = {'a': 1, 'b': 2}\n",
    "e = {key: value+4 for key, value in d.items()}\n",
    "e"
   ]
  },
  {
   "cell_type": "markdown",
   "metadata": {},
   "source": [
    "There are some other methods to unpack here, though: The method `items()` returns an iterator over the (key, value) pairs of the dictionary:"
   ]
  },
  {
   "cell_type": "code",
   "execution_count": null,
   "metadata": {},
   "outputs": [],
   "source": [
    "d.items()"
   ]
  },
  {
   "cell_type": "markdown",
   "metadata": {},
   "source": [
    "As you can see, for loops (inside a list comprehension or outside) can also iterate over `tuples`, and those tuples can be assigned implicitely:"
   ]
  },
  {
   "cell_type": "code",
   "execution_count": null,
   "metadata": {},
   "outputs": [],
   "source": [
    "for i in d.items():\n",
    "    print(i)"
   ]
  },
  {
   "cell_type": "code",
   "execution_count": null,
   "metadata": {},
   "outputs": [],
   "source": [
    "for k, v in d.items():\n",
    "    print(\"key: {}; value: {}\".format(k, v))"
   ]
  },
  {
   "cell_type": "markdown",
   "metadata": {},
   "source": [
    "Lastly, the list/dict comprehension can include conditions:"
   ]
  },
  {
   "cell_type": "code",
   "execution_count": null,
   "metadata": {},
   "outputs": [],
   "source": [
    "[i for i in a if i != 1]"
   ]
  },
  {
   "cell_type": "markdown",
   "metadata": {},
   "source": [
    "This is in fact the standard way (in Python3 at least) to \"filter\" a list."
   ]
  },
  {
   "cell_type": "markdown",
   "metadata": {},
   "source": [
    "# Functions (3)\n",
    "\n",
    "Now that we know about container types in Python, we can introduce some more syntactic sugar for function definitions. Python provides a shorthand to \"hand over\" whole lists of arguements to a function:"
   ]
  },
  {
   "cell_type": "code",
   "execution_count": null,
   "metadata": {},
   "outputs": [],
   "source": [
    "def func(*args):\n",
    "    for argument in args:\n",
    "        print(argument)\n",
    "        \n",
    "func(1, 2, 3)"
   ]
  },
  {
   "cell_type": "markdown",
   "metadata": {},
   "source": [
    "The statement `*args` inside the function definition's argument list means: \"Take all of the arguments supplied to the function and put it into the list `args`. Again, you could give any name to that list, but `args` is customary. Needless to say, in this case, the number of arguments is arbitrary and only determined when you call the function:"
   ]
  },
  {
   "cell_type": "code",
   "execution_count": null,
   "metadata": {},
   "outputs": [],
   "source": [
    "func('hello', 'world')"
   ]
  },
  {
   "cell_type": "markdown",
   "metadata": {},
   "source": [
    "Keyword arguments are packed into a dictionary prefaced by a double `**`, and the statement is:"
   ]
  },
  {
   "cell_type": "code",
   "execution_count": null,
   "metadata": {},
   "outputs": [],
   "source": [
    "def func(*args, **kwargs):\n",
    "    for k, v in kwargs.items():\n",
    "        print(\"key: {} - value: {}\".format(k, v))\n",
    "\n",
    "func(a=4, b=[])"
   ]
  },
  {
   "cell_type": "markdown",
   "metadata": {},
   "source": [
    "Again, the name `kwargs` is common practice but not imperative. Furthermore, note that if no by-order `*args` are given, the function nonetheless executes without error - the `args` list is simply not populated and one could test inside the function body whether any are present (e.g. with `if len(args) > 0:`).\n",
    "\n",
    "## Variable scope\n",
    "\n",
    "The concept of *scope* is a very important one. Most modern languages implement some version of it. The idea is that in order to keep accidental mess-ups to a minimum, variables are only defined inside a particular \"scope\". Scopes, in turn are nested hierarchically; for example, your entire script file corresponds to one scope, and the body of a function represents another, nested scope.\n",
    "\n",
    "**<span style=\"color:red\">Variables that are only defined <span style=\"color:green\">inside</span> a function will never be \"visible\" <span style=\"color:green\">outside</span> of it</span>.** This is so as to prevent *collisions* between names, in particular if you use someone else's code and don't know how she named her variables."
   ]
  },
  {
   "cell_type": "code",
   "execution_count": null,
   "metadata": {},
   "outputs": [],
   "source": [
    "def func():\n",
    "    inside = 'defined'\n",
    "\n",
    "inside"
   ]
  },
  {
   "cell_type": "code",
   "execution_count": null,
   "metadata": {},
   "outputs": [],
   "source": [
    "def func():\n",
    "    inside = 'defined'\n",
    "    print(inside)\n",
    "\n",
    "func()"
   ]
  },
  {
   "cell_type": "markdown",
   "metadata": {},
   "source": [
    "However, for convenience, **<span style=\"color:red\">a function body does have access to variables that are defined in the <span style=\"color:green\">enclosing</span> scope</span>**."
   ]
  },
  {
   "cell_type": "code",
   "execution_count": null,
   "metadata": {},
   "outputs": [],
   "source": [
    "outside = 'sunshine'\n",
    "def func():\n",
    "    print(outside)\n",
    "    \n",
    "func()"
   ]
  },
  {
   "cell_type": "markdown",
   "metadata": {},
   "source": [
    "However, for safety, **<span style=\"color:red\">if a function body modifies the value of an outside variable, it is only overwritten inside the function</span>** - the function has no *side effects*: effects on the enclosing program other than possibly returning a value."
   ]
  },
  {
   "cell_type": "code",
   "execution_count": null,
   "metadata": {},
   "outputs": [],
   "source": [
    "outside = 'sunshine'\n",
    "def func():\n",
    "    outside = 'dark'\n",
    "\n",
    "func()\n",
    "outside"
   ]
  },
  {
   "cell_type": "markdown",
   "metadata": {},
   "source": [
    "It may be that the behavior of overwriting the outside variable is desired, in which case the variable could be declared inside the function body as `global` - however, this is a strongly discouraged practice which I mention only for the sake of completeness:"
   ]
  },
  {
   "cell_type": "code",
   "execution_count": null,
   "metadata": {},
   "outputs": [],
   "source": [
    "def func():\n",
    "    global outside\n",
    "    outside = 'dark'\n",
    "\n",
    "func()\n",
    "outside"
   ]
  },
  {
   "cell_type": "markdown",
   "metadata": {},
   "source": [
    "## Lambda expressions\n",
    "\n",
    "Sometimes, you want to use a function-like object (a `callable` in Python parlance) without using the full `def...` syntaxt - sort of \"on the fly\". For this case there exists the so-called `lambda` expression, which provides you with a way of constructing a `callable` without defining a function first. This happens mostly in connection with functions that take themselves a `callable` as argument, such as `sorted`:"
   ]
  },
  {
   "cell_type": "code",
   "execution_count": null,
   "metadata": {},
   "outputs": [],
   "source": [
    "a = [(1, 2), (4, 1)]\n",
    "sorted(a, key=lambda i: i[1])"
   ]
  },
  {
   "cell_type": "markdown",
   "metadata": {},
   "source": [
    "With a regular function, above expression would look like:"
   ]
  },
  {
   "cell_type": "code",
   "execution_count": null,
   "metadata": {},
   "outputs": [],
   "source": [
    "def k(i):\n",
    "    return i[1]\n",
    "sorted(a, key=k)"
   ]
  },
  {
   "cell_type": "markdown",
   "metadata": {},
   "source": [
    "The point here is that we want `sorted` to sort the list according to the *second* element in each of the tuples that make up the list. The optional argument `key` to `sorted` takes a callable as an argument that is invoked on each element of the list and here returns its second value. By default, `sorted` would probably use the first element of the tuples for sorting:"
   ]
  },
  {
   "cell_type": "code",
   "execution_count": null,
   "metadata": {},
   "outputs": [],
   "source": [
    "sorted([(2, 1), (1, 4)])"
   ]
  },
  {
   "cell_type": "markdown",
   "metadata": {},
   "source": [
    "The `lambda` expression does not assign the function to a name as does the `def`-type function definition. However, it's of course possible to do just that:"
   ]
  },
  {
   "cell_type": "code",
   "execution_count": null,
   "metadata": {},
   "outputs": [],
   "source": [
    "l = lambda element: element[1]\n",
    "sorted(a, key=l)"
   ]
  },
  {
   "cell_type": "markdown",
   "metadata": {},
   "source": [
    "As always, how we name the argument to `lambda` (before the colon) is up to us, and several arguments can be given: "
   ]
  },
  {
   "cell_type": "code",
   "execution_count": null,
   "metadata": {},
   "outputs": [],
   "source": [
    "# this syntax immediately evaluates the lambda on the input (4, 5)\n",
    "(lambda x, y: x + y)(4, 5)"
   ]
  },
  {
   "cell_type": "markdown",
   "metadata": {},
   "source": [
    "# More statements\n",
    "\n",
    "I will finish this introduction by briefly mentioning some more commonly used statements in Python, without aspiring to be comprehensive.\n",
    "\n",
    "## `with` statements\n",
    "\n",
    "The `with` statement is closely linked to the idea of scope; in fact it creates what is called, in Python, a **\"context\"** and is used with a number of objects that provide the necessary methods (`__enter__` and `__exit__`). \n",
    "\n",
    "A common example is the object returned when you open a file:"
   ]
  },
  {
   "cell_type": "code",
   "execution_count": null,
   "metadata": {},
   "outputs": [],
   "source": [
    "with open('filename.txt', 'w') as f:\n",
    "    f.write('something')"
   ]
  },
  {
   "cell_type": "markdown",
   "metadata": {},
   "source": [
    "This opens the file 'filename.txt' in write mode (argument `'w'`) and assigns the file handle object to the name `f`. Inside the (indented) block, I have access to this file handle called `f` (and again, you're free to substitute any name here). The purpose of the `with` block, in this case, is to automatically close the file again after the block is exited. Different `with` statements may have different purposes, and you can also implement your own objects providing \"contexts\"; but in general they're there in order to \"clean up\" after a block automatically.\n",
    "\n",
    "Without the `with`, you would do the following:"
   ]
  },
  {
   "cell_type": "code",
   "execution_count": null,
   "metadata": {},
   "outputs": [],
   "source": [
    "f = open('filename.txt', 'w')\n",
    "f.write('something')\n",
    "f.close()"
   ]
  },
  {
   "cell_type": "markdown",
   "metadata": {},
   "source": [
    "## Error handling (`try: except:` statements)\n",
    "\n",
    "As you probably have noticed by now, Python often gives errors if something unexpected occurs. In code that you write, you can also imbue your objects with the ability to throw errors with enlightening messages for other users. \n",
    "\n",
    "Generally, if an error occurs, it will interrupt your program. This may sometimes not be desirable (e.g. if you're running a long loop which will fail on some, but not most iterations). For this purpose, a special syntax exists that allows you to \"catch\" errors and provide an alternative way of proceeding:"
   ]
  },
  {
   "cell_type": "code",
   "execution_count": null,
   "metadata": {},
   "outputs": [],
   "source": [
    "for i in [1, 2, 3, None, 5, 6]:\n",
    "    try:\n",
    "        print(i + 1)\n",
    "    except:\n",
    "        print(\"error: {}\".format(i))"
   ]
  },
  {
   "cell_type": "markdown",
   "metadata": {},
   "source": [
    "The error handling is performed by the `try: ... except:` statement, I only wrapped it inside a loop in order to produce an error on one iteration only (when I try to add 1 to `None`). In general, only the code block under the `try:` clause is executed, **unless** an error occurs within this block, in which case the code under the `except:` clause is executed instead.\n",
    "\n",
    "There are some variations of this statement: for once, you can assign the actual error that is thrown to a name of your choosing by means of an `as ...` expression:"
   ]
  },
  {
   "cell_type": "code",
   "execution_count": null,
   "metadata": {},
   "outputs": [],
   "source": [
    "for i in [1, 2, 3, None, 5, 6]:\n",
    "    try:\n",
    "        print(i + 1)\n",
    "    except Exception as exc:\n",
    "        a = exc"
   ]
  },
  {
   "cell_type": "markdown",
   "metadata": {},
   "source": [
    "In this case, when an error occurs, the \"error object\" (whose most general base class is `Exception`) is assigned to the name `exc` (in this case), which I then assign to the variable name `a` in order to inspect it here:"
   ]
  },
  {
   "cell_type": "code",
   "execution_count": null,
   "metadata": {},
   "outputs": [],
   "source": [
    "a"
   ]
  },
  {
   "cell_type": "markdown",
   "metadata": {},
   "source": [
    "The reason why I need to do this is that the name `exc` resulting from the `as` statement is only valid inside the scope of the `except` block. As you can see, it as a particular type of error that is being thrown; in fact, `TypeError` is simply a subclass of the basic `Exception`. The specific error type can be used in order to tailor your error-catching operation:"
   ]
  },
  {
   "cell_type": "code",
   "execution_count": null,
   "metadata": {},
   "outputs": [],
   "source": [
    "for i in [1, 2, 3, None, 5, 6]:\n",
    "    try:\n",
    "        print(i + 1)\n",
    "    except TypeError:\n",
    "        print(i)"
   ]
  },
  {
   "cell_type": "markdown",
   "metadata": {},
   "source": [
    "This expression will only catch `TypeError`s. Here's an example of a different type of error:"
   ]
  },
  {
   "cell_type": "code",
   "execution_count": null,
   "metadata": {},
   "outputs": [],
   "source": [
    "[1, 2, 3][3]"
   ]
  },
  {
   "cell_type": "markdown",
   "metadata": {},
   "source": [
    "I was trying to access element `3` of a three-element list (remember, indexes in Python start with 0). Let's try and catch that one:"
   ]
  },
  {
   "cell_type": "code",
   "execution_count": null,
   "metadata": {},
   "outputs": [],
   "source": [
    "try:\n",
    "    a = [1, 2, 3][3]\n",
    "    print(a)\n",
    "except IndexError:\n",
    "    print('caught it')"
   ]
  },
  {
   "cell_type": "markdown",
   "metadata": {},
   "source": [
    "If I only wanted to catch a `TypeError`:"
   ]
  },
  {
   "cell_type": "code",
   "execution_count": null,
   "metadata": {},
   "outputs": [],
   "source": [
    "try:\n",
    "    a = [1, 2, 3][3]\n",
    "    print(a)\n",
    "except TypeError:\n",
    "    print('caught it')"
   ]
  },
  {
   "cell_type": "markdown",
   "metadata": {},
   "source": [
    "The index error would not be caught. `Exception` is the general base class for **all** errors and will catch them all. It is also possible to provide several per-error `except:` clauses:"
   ]
  },
  {
   "cell_type": "code",
   "execution_count": null,
   "metadata": {},
   "outputs": [],
   "source": [
    "try:\n",
    "    a = [1, 2, 3][3]\n",
    "    print(a)\n",
    "except TypeError as te:\n",
    "    print(te)\n",
    "except IndexError as ie:\n",
    "    print(ie)"
   ]
  },
  {
   "cell_type": "markdown",
   "metadata": {},
   "source": [
    "There has to be at least one `except:` clause, but it is one of those instances where the word `pass` comes in handy if you just want to avoid the error interrupting the program, but have no alternative execution requirement:"
   ]
  },
  {
   "cell_type": "code",
   "execution_count": null,
   "metadata": {},
   "outputs": [],
   "source": [
    "for i in [1, 2, 3, None, 5, 6]:\n",
    "    try:\n",
    "        print(i + 1)\n",
    "    except:\n",
    "        pass"
   ]
  },
  {
   "cell_type": "markdown",
   "metadata": {},
   "source": [
    "There are two further **optional** clauses that can be used with a `try:` statement:\n",
    "- `else:` - which contains code that should **only** be executed if the code inside the `try:` block does **not** throw and error\n",
    "- `finally:` - which contains code that should **always** be executed.\n",
    "\n",
    "A complete example:"
   ]
  },
  {
   "cell_type": "code",
   "execution_count": null,
   "metadata": {},
   "outputs": [],
   "source": [
    "for i in [1, 2, 3, None, 5, 6]:\n",
    "    try:\n",
    "       j = i + 1\n",
    "    except:\n",
    "        print(\"error, i is {}\".format(i))\n",
    "    else:\n",
    "        print(\"no error, j is {}\".format(j))\n",
    "    finally:\n",
    "        print(\"always\")"
   ]
  },
  {
   "cell_type": "markdown",
   "metadata": {},
   "source": [
    "As a final comment, you can raise your own errors. The simplest way to do that is:"
   ]
  },
  {
   "cell_type": "code",
   "execution_count": null,
   "metadata": {},
   "outputs": [],
   "source": [
    "raise Exception(\"Whatever I want to tell the user.\")"
   ]
  },
  {
   "cell_type": "markdown",
   "metadata": {},
   "source": [
    "More functionally usefull is the ability to create your own, named subclass of `Exception`, which can then be caught explicitly by another part of the code. This is actually a design pattern in Python: it provides an easy, albeit somewhat misappropriated way of communicating between distant parts of your code."
   ]
  },
  {
   "cell_type": "code",
   "execution_count": null,
   "metadata": {},
   "outputs": [],
   "source": [
    "class Help(Exception):\n",
    "    pass\n",
    "\n",
    "class Swimmer(object):\n",
    "    def __add__(self, other):\n",
    "        raise Help(\"You can't add to me!\")\n",
    "    \n",
    "Shelley = Swimmer()\n",
    "try:\n",
    "    Shelley + 1\n",
    "except Help as h:\n",
    "    print(h)\n",
    "    print(\"Even though this is an exception, I can actually use this as a form of flow control.\")"
   ]
  },
  {
   "cell_type": "markdown",
   "metadata": {},
   "source": [
    "# Python modules\n",
    "\n",
    "Now that we have a fundation on which to build, let's look at how to use libraries in Python. When you write a Python script or work interactively as we are doing here right now, there is a certain number of fundamental statements that the interpreter will understand - all of the ones we have used so far belong to this category. You will have noticed that those \"always present\" language elements comprise both *statements* (like the `try: except:` statement we just talked about) and functions (like the `print()` function).\n",
    "\n",
    "Even without installing anything else, the base Python includes a number of additional tools and functionalities which are not automatically accessible; furthermore, the Python ecosystem consists of probably millions of additional libraries written by Python programmers and available as Open Source. \n",
    "\n",
    "Additional libraries in Python are called **modules**. A module is always *one* text file containing the code that provides the additional functionality. This may include functions, classes or even just variables. Modules have to be **imported** before the code they provide is available to the interpreter. Once imported, the module is just another \"object\" whose attributes (i.e. everything the module defines) can be accessed by dot-accessor syntax.\n",
    "\n",
    "Modules can furthermore be grouped into **packages** - collections of individual module files that belong, in the creator's opinion, together. The access via dot-accessor traverses hierarchies: `package.module.class.method`. \n",
    "\n",
    "Hopefully this will become a little clearer with examples. Let us look at one particular, frequently used **built-in** Python module which is not automatically imported when you start Python, the `os` module (`os` stands for operating system). In order to import a module, there is an `import` statement."
   ]
  },
  {
   "cell_type": "code",
   "execution_count": null,
   "metadata": {},
   "outputs": [],
   "source": [
    "import os\n",
    "os.listdir('/home/arno/Documents')"
   ]
  },
  {
   "cell_type": "markdown",
   "metadata": {},
   "source": [
    "The `os` module contains all kinds of tools relating to the file system; `listdir`, for example, returns the contents of a directory (given as argument, or defaulting to the current one) as a Python `list`. A very frequently used submodule (yes, the distinction between modules and packages gets foggy at some point) is `os.path`, which contains tools to deal with file system paths, e.g."
   ]
  },
  {
   "cell_type": "code",
   "execution_count": null,
   "metadata": {},
   "outputs": [],
   "source": [
    "os.path.join(\"home\", \"arno\")"
   ]
  },
  {
   "cell_type": "markdown",
   "metadata": {},
   "source": [
    "Important to understand is how the import system works. In the above form, a single \"symbol\" (the name `os`) is imported into the respective scope (in our case simply our interactive workspace, or the scope created when running a script), and additional functionality is accessible via the dot-accessors. There are some additional variants of the import statement:"
   ]
  },
  {
   "cell_type": "code",
   "execution_count": null,
   "metadata": {},
   "outputs": [],
   "source": [
    "import os as something\n",
    "something.listdir('/home/arno/Documents')"
   ]
  },
  {
   "cell_type": "markdown",
   "metadata": {},
   "source": [
    "The `as` keyword assigns the imported module to a different name than its own, in this case `something` - this is used frequently, albeit usually in order to shorten a long module name to something shorter.\n",
    "\n",
    "If I know I only want to use the `os.path` submodule, I can restrict my import:\n",
    "```python\n",
    "import os.path\n",
    "```\n",
    "in which case it will be accessible exactlyas imported, as `os.path`. Of course, I can reassign the name:\n",
    "```python\n",
    "import os.path as path\n",
    "```\n",
    "in which case it will be accessible as `path`. The same can be achieved by the following syntax:\n",
    "```python\n",
    "from os import path\n",
    "```\n",
    "which only imports the `path` submodule from `os` and assigns it to the name `path`. The two variants can be combined:"
   ]
  },
  {
   "cell_type": "code",
   "execution_count": null,
   "metadata": {},
   "outputs": [],
   "source": [
    "from os import path as p\n",
    "p.join(\"home\", \"arno\")"
   ]
  },
  {
   "cell_type": "markdown",
   "metadata": {},
   "source": [
    "The `from import` variant does not need to refer to a whole module, it can be used to import only one named entity of any sort from a module. For example, there is a variable called the system path, which is a simple Python `list` populated with locations where to search for additional modules when evoking the `import` statement. It is usually accessed by:"
   ]
  },
  {
   "cell_type": "code",
   "execution_count": null,
   "metadata": {},
   "outputs": [],
   "source": [
    "import sys\n",
    "sys.path"
   ]
  },
  {
   "cell_type": "markdown",
   "metadata": {},
   "source": [
    "But I could also import it directly:"
   ]
  },
  {
   "cell_type": "code",
   "execution_count": null,
   "metadata": {},
   "outputs": [],
   "source": [
    "from sys import path as syspath\n",
    "syspath"
   ]
  },
  {
   "cell_type": "markdown",
   "metadata": {},
   "source": [
    "You may also sometimes see code that uses a variant of the sort `from sys import *`, which means that all definitions of the `sys` module should be imported into the current scope. This practice is strongly discouraged, again for name-collision reasons. If you only import the top-level module, e.g. `os`, there will be only this one name defined in your scope, but everything that is defined \"below\" the level of `os` can be accessed via dot-accessor syntax. That way, if you have defined a variable `path` in your script, there will be no collision with the `path` inside the `os` module, which will have to be accessed as `os.path`. \n",
    "\n",
    "This is a common programming practive called **\"namespacing\"**. The top-level \"namespace\" here is `os`. If I import the module `sys`, all of **its** submodules, classes and functions are said to live in the `sys` namespace. Namespaces and scopes are both concepts that are used in order to minimize the potential for bugs; on important thing to bear in mind is that you never know what names anohter programmer gives to her variables, so that it is better to keep them separate (namespaced!) from your own.\n",
    "\n",
    "A few more practical comments:\n",
    "- If you import a simple module consisting of a single file, all the definitions that live in this file will be accessible by dot-syntax. However, sometimes you don't know if what you're importing is actually a package, consisting of many files, and it can happen that what you think is a submodule are **not** accessible from the top level. In this case you need to import the submodule explicitly. Example:"
   ]
  },
  {
   "cell_type": "code",
   "execution_count": null,
   "metadata": {},
   "outputs": [],
   "source": [
    "# works\n",
    "from sklearn import tree\n",
    "tree"
   ]
  },
  {
   "cell_type": "code",
   "execution_count": null,
   "metadata": {},
   "outputs": [],
   "source": [
    "# doesn't work\n",
    "import sklearn as skl\n",
    "skl.tree"
   ]
  },
  {
   "cell_type": "markdown",
   "metadata": {},
   "source": [
    "- Modules are ever only imported **once** per session. A repeat `import` statement has no effect, although there are some \"reload\" tools in existence (this is really only relevant if you are working on your own module). Loaded modules are added to the dictionary `sys.modules`, and before executing any `import` statement, the Python interpreter looks there to see if the respective module has been imported before.\n",
    "- Imports are only available within the scope inside which you executed the `import` statement. If you imported something inside a function, it will only be available inside the function.\n",
    "\n",
    "## Modules vs. scripts\n",
    "\n",
    "In the beginning, you will probably write more scripts than modules. The difference is that scripts are simply \"run\", whereas modules are \"imported\". Modules generally live in their own namespace, whereas the definitions contained in a script are simply added to the current namespace.\n",
    "\n",
    "It is possible to design files that can double as both a module or a script; a module can be used in a different script or module (by importing it), whereas a script cannot. This is typically done with a particular idiom:\n",
    "```python\n",
    "# main module code\n",
    "class Classname(object):\n",
    "    def run(self):\n",
    "        do something\n",
    "\n",
    "# this statement determines whether the file is imported or run as a script:\n",
    "if __name__ == '__main__':\n",
    "    c = Classname()\n",
    "    c.run()\n",
    "```\n",
    "\n",
    "The built-in variable `__name__` is always set to \"__main__\" if the file is executed as a script, whereas it is set to the name of the module if it is imported:"
   ]
  },
  {
   "cell_type": "code",
   "execution_count": null,
   "metadata": {},
   "outputs": [],
   "source": [
    "os.__name__"
   ]
  },
  {
   "cell_type": "markdown",
   "metadata": {},
   "source": [
    "The typical pattern is to define some class in the module body, which can for example be imported and reused by other scripts/modules, but to initialize the class and execute a method only when the file is run as a script.\n",
    "\n",
    "## The import path\n",
    "\n",
    "There are all kinds of different locations into which Python installs things and where it looks for them again later, in particular when executing an `import` statement. That's one of the reasons for using a *conda environment*. \n",
    "\n",
    "- The standard location within a \\*nix type file system tree where Python modules are located is, for historical reasons,\n",
    "```\n",
    ".../lib/python?.?/site-packages\n",
    "```\n",
    "where the `?.?` refers to specific Python versions.\n",
    "- Python looks for modules to import on the *system path*:"
   ]
  },
  {
   "cell_type": "code",
   "execution_count": null,
   "metadata": {},
   "outputs": [],
   "source": [
    "import sys\n",
    "sys.path"
   ]
  },
  {
   "cell_type": "markdown",
   "metadata": {},
   "source": [
    "The `sys.path` list makes it possible for you to have Python look in other locations (e.g. wherever you have your code files) for modules, too - just add a path to the list. Order matters and Python imports the first module of the correct name found by traversing the list in order. Therefore it is commonplace to insert paths at location `0` or `1`: `sys.path.insert(1, '/path/to/directory/with/code')`. (As an aside, I often use this to verify that I'm using the Python interpreter I'm meaning to use.)"
   ]
  },
  {
   "cell_type": "markdown",
   "metadata": {},
   "source": [
    "# Numpy\n",
    "\n",
    "Let us now turn to the arguably most important third-party module you will use in numerical work: [Numpy](http://www.numpy.org/). The main claim to fame of Numpy is that it provides Python with a data structure that is missing from the language itself: arrays.\n",
    "\n",
    "## What is an array?\n",
    "\n",
    "An array is a collection of similar items, in particular numbers of a given type. It is most frequently thought of as the computer's equivalent to the mathematical concept of a vector. It has a superficial similarity to a Python `list` (in that it is a collection of items accessible by an index), but it differs in several respects:\n",
    "- once constructed, its **size** can no longer be changed (but unlike with a `tuple`, values **can** be changed)\n",
    "- its elements are of **one** type only (usually, a numerical type like float or int)\n",
    "- it offers vectorized computations (i.e. linear algebra)\n",
    "\n",
    "Arrays are **vastly** more efficient than Python lists, in part because they do not offer a lot of the flexibility and functionality that lists offer, in part because Numpy is really implemented in C and all of its functions are carried out by highly optimized and compiled code, **not** by the Python interpreter. A lot of Analysis work would simply not be possible due to the relative inefficiency of Python itself - however, thanks to packages like Numpy, this restriction is not very relevant, which is precisely what has made Python so popular. \n",
    "\n",
    "Let us import Numpy and construct an array:"
   ]
  },
  {
   "cell_type": "code",
   "execution_count": null,
   "metadata": {},
   "outputs": [],
   "source": [
    "import numpy as np # it can almost be considered a 'standard' to import numpy as 'np'\n",
    "a = np.array([1, 2, 3])\n",
    "a"
   ]
  },
  {
   "cell_type": "markdown",
   "metadata": {},
   "source": [
    "As you can see, you intialize an array by giving it a `list` of the elements it is supposed to hold. What data type has Numpy used?"
   ]
  },
  {
   "cell_type": "code",
   "execution_count": null,
   "metadata": {},
   "outputs": [],
   "source": [
    "a.dtype"
   ]
  },
  {
   "cell_type": "markdown",
   "metadata": {},
   "source": [
    "Apparently, integers. If I want to \"coerce\" them to floats, I can use the same strategy as in raw Python:"
   ]
  },
  {
   "cell_type": "code",
   "execution_count": null,
   "metadata": {},
   "outputs": [],
   "source": [
    "a = np.array([1., 2, 3])\n",
    "a.dtype"
   ]
  },
  {
   "cell_type": "markdown",
   "metadata": {},
   "source": [
    "It's sufficient that **one** of the numbers be a float, that \"upcasts\" all the other integers to floats (because floats are a more general class of type than integers, as in, integers can be represented as floats, but not vice versa). Also note that Numpy actually defines its own numeric types (e.g. `np.float64` or `np.int64`, where the `64` is meant to indicate that we're dealing with 64-bit representations).\n",
    "\n",
    "Alternatively, I can tell the array constructor directly what data type (`dtype`) I want:"
   ]
  },
  {
   "cell_type": "code",
   "execution_count": null,
   "metadata": {},
   "outputs": [],
   "source": [
    "a = np.array([1, 2, 3], dtype='float')\n",
    "a.dtype"
   ]
  },
  {
   "cell_type": "code",
   "execution_count": null,
   "metadata": {},
   "outputs": [],
   "source": [
    "# What do you think will happen here?\n",
    "np.array([1.7, 2.8, 3.5], dtype='int')"
   ]
  },
  {
   "cell_type": "markdown",
   "metadata": {},
   "source": [
    "The most important aspect of Numpy arrays is that they define vectorized operations:"
   ]
  },
  {
   "cell_type": "code",
   "execution_count": null,
   "metadata": {},
   "outputs": [],
   "source": [
    "a = np.array([1., 2, 3])\n",
    "b = np.array([4, 5, 6])\n",
    "a + b"
   ]
  },
  {
   "cell_type": "markdown",
   "metadata": {},
   "source": [
    "As with regular Python, upcasting to the correct type is automatically performed (`a` is an array of floats, `b` of ints). \n",
    "\n",
    "Numpy borrows a lot of its syntax from Matlab; Numpy arrays are very similar to Matlab matrices. The usual slice notation can be used on them, too:"
   ]
  },
  {
   "cell_type": "code",
   "execution_count": null,
   "metadata": {},
   "outputs": [],
   "source": [
    "a[:2]"
   ]
  },
  {
   "cell_type": "markdown",
   "metadata": {},
   "source": [
    "**<span style=\"color:red\">However, a main difference to Matlab is that the \"default\" operations defined for the arithmetic operators are understood as <span style=\"color:green\">elementwise</span></span>**, rather than in terms of e.g. dot products (corresponding to the `.*` syntax in Matlab). To perform such operations, special methods are available, e.g."
   ]
  },
  {
   "cell_type": "code",
   "execution_count": null,
   "metadata": {},
   "outputs": [],
   "source": [
    "a = np.array([[1, 2, 3], [4, 5, 6]])\n",
    "b = np.array([[7, 8], [9, 10], [11, 12]])\n",
    "a.dot(b)"
   ]
  },
  {
   "cell_type": "markdown",
   "metadata": {},
   "source": [
    "### A note on efficiency\n",
    "\n",
    "The same point concerning efficiency applies to Numpy as it does to Matlab: vectorized operations are much, much more efficient than, say, loops implemented in pure Python. With respect to Numpy, this basically means, whenever you can use a Numpy-implemented function, use that one in preference to manually coding something yourself. In particular, whenever possible, cast the problem you want to solve as a linear algebra problem and use Numpy's functions/methods to solve it.\n",
    "\n",
    "(N.B. there are *some* Numpy functions that internally use Python loops themselves, so those do not provide any efficiency benefit - one of them is, ironically, ``numpy.vectorize``).\n",
    "\n",
    "## Array broadcasting\n",
    "\n",
    "Numpy is a comprehensive package that offers many high-performing methods around the \"theme\" of linear algebra, ranging from matrix decompositions and least squares solvers to FFTs. I will not go into any more detail here, but I will mention one particularly useful and \"Pythonic\" shortcut that is available with Numpy arrays, called *broadcasting*.\n",
    "\n",
    "Consider two simple arrays of shape (1, 2) and (2, 2). These two arrays do not offer themselves to an elementwise operation since they have different shapes; however, one of their dimensions (the second) agrees in length. If you perform an elementwise operation on these two arrays, Numpy will assume that you want to **\"fill out\"** the shorter dimension:"
   ]
  },
  {
   "cell_type": "code",
   "execution_count": null,
   "metadata": {},
   "outputs": [],
   "source": [
    "a = np.array([1, 2])\n",
    "b = np.array([[4, 4], [4, 4]])\n",
    "a * b"
   ]
  },
  {
   "cell_type": "markdown",
   "metadata": {},
   "source": [
    "This is equivalent to the statement:"
   ]
  },
  {
   "cell_type": "code",
   "execution_count": null,
   "metadata": {},
   "outputs": [],
   "source": [
    "np.repeat(a.reshape(1, -1), 2, 0) * b"
   ]
  },
  {
   "cell_type": "markdown",
   "metadata": {},
   "source": [
    "Which first \"repeats\" array `a` along the first dimension:"
   ]
  },
  {
   "cell_type": "code",
   "execution_count": null,
   "metadata": {},
   "outputs": [],
   "source": [
    "np.repeat(a.reshape(1, -1), 2, 0)"
   ]
  },
  {
   "cell_type": "markdown",
   "metadata": {},
   "source": [
    "(We also need to `reshape` it because as defined, it only has one dimension but needs two: broadcasting and repeating only works if the overall **number** of dimensions is the same for both arrays.)\n",
    "\n",
    "Rather than delving into Numpy, which is really a topic for itself, I will use the opportunity to talk about one final general concept: pointers.\n",
    "\n",
    "## Digression: Python and *pointers*\n",
    "\n",
    "In general, it is not necessary to know the concept of a pointer in order to code in Python; in fact, Python doesn't really \"know\" pointers. However, knowing about pointers will help understand some of the more bizarre behavioral aspects of Python.\n",
    "\n",
    "A pointer is a variable whose value corresponds to a memory address. It was introduced with the programming language \"C\" and played a large part in how arrays were defined in C. An array in C is basically a pointer to a \"starting\" address in memory, with the implicit understanding that the subsequent elements in an array can simply be reached by incrementing the address location (memory addresses can be thought of as a sequence of integers).\n",
    "\n",
    "I will not go into too much detail here, instead I will demonstrate something:"
   ]
  },
  {
   "cell_type": "code",
   "execution_count": null,
   "metadata": {},
   "outputs": [],
   "source": [
    "a = 5\n",
    "b = a\n",
    "a = 6\n",
    "# what do you expect b to be now?\n",
    "b"
   ]
  },
  {
   "cell_type": "code",
   "execution_count": null,
   "metadata": {},
   "outputs": [],
   "source": [
    "a = np.array([5])\n",
    "b = a\n",
    "a[0] = 6\n",
    "# what about this b?\n",
    "b"
   ]
  },
  {
   "cell_type": "markdown",
   "metadata": {},
   "source": [
    "What is happening in the second example is that `a` is really best understood as a \"pointer\" to a memory location that serves as the \"address\" of the Numpy array object that has been created. When we use the variable `a` in Python, **<span style=\"color:red\">Python will always interpret this as referring to the actual object, not its address</span>**, which is intiutively satisfying and sets languages like Python apart from those like C, where you'd have to take incredible care with whether you're dealing with an address or the value that is stored at that address. \n",
    "\n",
    "However, if I write `b = a` in the second example, `b` is simply set to \"point\" to the same memory address as `a` - in Python parlance we would say it *refers* to the same object as `a`. So when I change the value of `a`, `b`, point to the exact, **identical** object, will still reference this now-changed object.\n",
    "\n",
    "The situation in the first example is different, but only because Python was explicitly designed to give you this result, which seems more intuitive than the second one. When I assign `b = a`, Python thinks, correctly, that I want to assing the **value** of a to be, **not** that I want to **refer** to the same memory location. In essence, it is a \"copy\" of the value that is being assigned to `b`, not the **object** referred to by `a`.\n",
    "\n",
    "For that reason, Numpy objects actually have an explicit `copy` method:"
   ]
  },
  {
   "cell_type": "code",
   "execution_count": null,
   "metadata": {},
   "outputs": [],
   "source": [
    "a = np.array([5])\n",
    "b = a.copy()\n",
    "a[0] = 6\n",
    "b"
   ]
  },
  {
   "cell_type": "markdown",
   "metadata": {},
   "source": [
    "Here's the thing: **<span style=\"color:red\">This is indeed confusing</span>**, in particular because it is not always clear with third-party libraries such as Numpy what type of behavior they implement. To be fair, Python itself should probably behave like Numpy does - because then we'd know once and for all that everything is an object, everything is a pointer. As it is, we just need to be mindful of checking whether we're actually copying values or just referencing an object **without** copying values. (Btw, this is also an efficiency issue: copying values is expensive, \"pointing\" to them is not.)\n",
    "\n",
    "# Debugging\n",
    "\n",
    "I will restrict talking about specific software to one particular issue: debugging. As you have already seen, Python is quite good with throwing expressive error messages, although it is obviously up to the developer of third-party libraries to implement similarly expressive ones for those.\n",
    "\n",
    "Very, very briefly, debugging entails mainly the inspection of variable values in order to see if any of them are different from what you were expecting. This can be done manyally, by inserting `print` statements into your code to print out the value of variables at a given place in the code, or by means of a **debugger**, which can drop you off at a given location in the code and allows you to inspect any variable's value defined at that particular location. Debuggers also generally allow you to execute code in a stepwise fashion, so you can slowly work yourself towards the location where the error ocurred.\n",
    " \n",
    "Personally, I almost exclusively use the debugging entrypoints that come with IPython / Jupyter (which in turn use Python's own debugger. The really useful feature here is that IPython and Jupyter come with the `%debug` magic which can be invoked **after** an error has been thrown and inserts you right at the place in the code where the error ocurred (so-called *post-mortem* tracing). \n",
    "\n",
    "If you're running some code interactively from IPython or the Jupyter console and an error occurs, you can simply execute the command `%debug` (IPython and Jupyter define a number of `%`-prefaced commands for various purpuses they call \"magics\" - the other very usefule one being `%matplotlib`).\n",
    "\n",
    "The `%debug` command will enter the debugger post-mortem and drop you at the point in the *stack* (sort of the \"inbox\" of the operating system where all directives that are to be executed in the near future are being placed in order) where the error caused the overall program to crash; this may not be the location where the error occurred. You are placed on a command line interface where typing the name of a variable will print out its value, unless this name collides with one of the debugger's commands, in which case you should wrap it into a `print` statement. You can execute any Python code at this point, using the variables that are defined at that location.\n",
    "\n",
    "The built-in commands of the debugger include\n",
    "- `u` - go \"up\" in the hierarchy of nested function calls that define the current position in the stack\n",
    "- `n` - go to the \"next\" step in the program\n",
    "- `s` - \"step\" **into** a function (if a function is to be called in the \"next\" step, `n` will simply execute the function and return to the next line **after** the function, whereas `s` will step **inside** the function body)\n",
    "\n",
    "Lastly, you can also direct your code directly to stop at a specific place, by putting the following snipped at the location you want to stop at:\n",
    "```python\n",
    "from IPython.core.debugger import set_trace; set_trace()\n",
    "```\n",
    "This will execute your code up to this location and then drop into the debugger.\n",
    "\n",
    "# Documenting\n",
    "\n",
    "Python has a built-in way to document the code you write (which is pretty much identical to the system Matlab uses), and it's called the **\"docstring\"**. A string placed immediately underneath the heading of a function definition will be displayed if you ask your Python environment of choice for help."
   ]
  },
  {
   "cell_type": "code",
   "execution_count": null,
   "metadata": {},
   "outputs": [],
   "source": [
    "def func():\n",
    "    \"This is the docstring.\"\n",
    "    pass"
   ]
  },
  {
   "cell_type": "markdown",
   "metadata": {},
   "source": [
    "In the case of IPython or Jupiter, asking for help is as simple as typing a `?` after the object you'd like to be helped with:"
   ]
  },
  {
   "cell_type": "code",
   "execution_count": null,
   "metadata": {},
   "outputs": [],
   "source": [
    "func?"
   ]
  },
  {
   "cell_type": "markdown",
   "metadata": {},
   "source": [
    "A more extensive docstring can run over several lines; multi-line strings in Python are surrounded by triple quotes:"
   ]
  },
  {
   "cell_type": "code",
   "execution_count": null,
   "metadata": {},
   "outputs": [],
   "source": [
    "def func():\n",
    "    \"\"\"A docstring with multiple lines.\n",
    "    \n",
    "    Here, you can give details about the arguments your function expects.\n",
    "    \n",
    "    \"\"\"\n",
    "    pass"
   ]
  },
  {
   "cell_type": "code",
   "execution_count": null,
   "metadata": {},
   "outputs": [],
   "source": [
    "func?"
   ]
  },
  {
   "cell_type": "markdown",
   "metadata": {},
   "source": [
    "Docstrings can be placed under the definitions of classes too, and even at the very top of a module file."
   ]
  },
  {
   "cell_type": "markdown",
   "metadata": {},
   "source": [
    "# Examples\n",
    "\n",
    "## Datetime functionality\n",
    "\n",
    "Python comes with the built-in `datetime` module which encapsulates date-time functionality in a manner that far surpasses anything that can be done in Matlab. Numpy comes with its separate-but-related functionality, which I, personally, use more frequently - the particular appeal here being that you can do vectorized arithmetic on dates and times!\n",
    "\n",
    "This is really far more extensive than I can get into here, so I only show you some examples of what can be done:"
   ]
  },
  {
   "cell_type": "code",
   "execution_count": null,
   "metadata": {},
   "outputs": [],
   "source": [
    "# this is the Numpy equivalent to 'range' in raw Python - it produces a proper array as a result, however\n",
    "a = np.arange(10)\n",
    "a"
   ]
  },
  {
   "cell_type": "code",
   "execution_count": null,
   "metadata": {},
   "outputs": [],
   "source": [
    "# I now re-interpret the integers to correspond to days\n",
    "# Numpy interprets '0 days' to refer to the computer-epoch base date of Jan 1 1970 \n",
    "d = a.astype('datetime64[D]')\n",
    "d"
   ]
  },
  {
   "cell_type": "code",
   "execution_count": null,
   "metadata": {},
   "outputs": [],
   "source": [
    "# arbitrary dates can however be constructe, I just was just being lazy:\n",
    "np.datetime64('1899-04-23')"
   ]
  },
  {
   "cell_type": "code",
   "execution_count": null,
   "metadata": {},
   "outputs": [],
   "source": [
    "# datetime arithmetic works with so-called 'timedeltas' - here I add 10 days to each element of 'd'\n",
    "d + np.timedelta64(10, 'D')"
   ]
  },
  {
   "cell_type": "code",
   "execution_count": null,
   "metadata": {},
   "outputs": [],
   "source": [
    "# or just some minutes\n",
    "d + np.timedelta64(35, 'm')"
   ]
  },
  {
   "cell_type": "code",
   "execution_count": null,
   "metadata": {},
   "outputs": [],
   "source": [
    "# diffing dates from each other produces timedeltas\n",
    "np.diff(d)"
   ]
  },
  {
   "cell_type": "markdown",
   "metadata": {},
   "source": [
    "## Matplotlib\n",
    "\n",
    "[Matplotlib](https://matplotlib.org/) is the de-facto standard of scientific plotting in Python and implements a very Matlab-style API (in fact there is a submodule that is supposedly an exact copy of the Matlab function calls, called `pylab`, but I have not used this). Again, far too much to go into details here, but at least an example of how it all works inside a Jupyter Notebook:"
   ]
  },
  {
   "cell_type": "code",
   "execution_count": null,
   "metadata": {},
   "outputs": [],
   "source": [
    "import matplotlib.pyplot as plt # again, importing it as 'plt' is almost a standard in the Python world"
   ]
  },
  {
   "cell_type": "markdown",
   "metadata": {},
   "source": [
    "The 'magic' `%matplotlib` enables some collaborative functionality between matplotlib and whatever interface you're using. It can take a second argument depending on what particular [backend](https://matplotlib.org/tutorials/introductory/usage.html#id4) you want to use. For the Jupyter Notebook, at least two are available: `inline` and `notebook`. We will start with `inline`:"
   ]
  },
  {
   "cell_type": "code",
   "execution_count": null,
   "metadata": {},
   "outputs": [],
   "source": [
    "%matplotlib inline"
   ]
  },
  {
   "cell_type": "code",
   "execution_count": null,
   "metadata": {},
   "outputs": [],
   "source": [
    "import xarray as xr         # a module that implements an N-dimensional datastructure that works\n",
    "                            # very well with netcdf files\n",
    "from cartopy import crs     # map projections"
   ]
  },
  {
   "cell_type": "markdown",
   "metadata": {},
   "source": [
    "If you open a netcdf file with [xarray](http://xarray.pydata.org/en/stable/), the data structure gets populated not only with the data variables, but also the dimensions."
   ]
  },
  {
   "cell_type": "code",
   "execution_count": null,
   "metadata": {},
   "outputs": [],
   "source": [
    "ds = xr.open_dataset('/nfs/sata2_glacio/wrf_glacio/c01_2017093012/wrfout_d03_2017-09-30_12:00:00')\n",
    "\n",
    "# You can just print it to see all the meta-info:\n",
    "ds"
   ]
  },
  {
   "cell_type": "code",
   "execution_count": null,
   "metadata": {},
   "outputs": [],
   "source": [
    "# get the projection parameters from the netcdf attributes - however:\n",
    "# I can't get the projection to work with the parameters it *should* take, instead I need to specify a cutoff lat\n",
    "def cartopy_params(ds):\n",
    "    return {\n",
    "        'central_longitude': ds.CEN_LON,\n",
    "        'central_latitude':  ds.CEN_LAT,\n",
    "#         'standard_parallels':  (ds.TRUELAT1, ds.TRUELAT2), b\n",
    "        'cutoff': -40.\n",
    "    }"
   ]
  },
  {
   "cell_type": "code",
   "execution_count": null,
   "metadata": {},
   "outputs": [],
   "source": [
    "from data import GSHHS\n",
    "\n",
    "def clip(g, bbox=[-72.2, -69, -32.5, -28.2]):\n",
    "    b = np.array(g.envelope.bounds)\n",
    "    return np.all(np.r_[b[:2], bbox[:2]] <= np.r_[bbox[2:], b[2:]])\n",
    "\n",
    "coast = [g for g in GSHHS.GSHHS('GSHHS_shp/i/GSHHS_i_L1').geometries() if clip(g)]\n",
    "rivers = [g for g in GSHHS.GSHHS('WDBII_shp/i/WDBII_river_i_L05').geometries() if clip(g)]"
   ]
  },
  {
   "cell_type": "code",
   "execution_count": null,
   "metadata": {},
   "outputs": [],
   "source": [
    "from matplotlib.gridspec import GridSpec\n",
    "\n",
    "# select the DEM\n",
    "z = ds['HGT'].isel(Time=0)\n",
    "# select 2m tempterature at timestep 10\n",
    "x = ds['T2'].mean('Time')\n",
    "\n",
    "# initialize a figure\n",
    "fig = plt.figure(figsize=(15, 7))\n",
    "\n",
    "# here I'm doing some layout work that's not really necessary for simple plotting, \n",
    "# but for my somewhat more complicated example of having one unprojected and one projected plot\n",
    "gs = GridSpec(1, 2)\n",
    "ax = fig.add_subplot(gs[0])\n",
    "\n",
    "# pseudocolor plot without projection\n",
    "pl = ax.pcolormesh(x.values - 273.15, cmap='coolwarm', vmin=-20, vmax=20)\n",
    "plt.colorbar(pl, ax=ax)\n",
    "\n",
    "bx = fig.add_subplot(gs[1], projection=crs.LambertConformal(**cartopy_params(ds)))\n",
    "\n",
    "# plot a colormesh in projected coordinates\n",
    "cf = bx.contourf(z.XLONG, z.XLAT, z.values, transform=crs.PlateCarree(), cmap='terrain')\n",
    "bx.add_geometries(coast, crs.PlateCarree(), facecolor='none', edgecolor='w', linewidth=2)\n",
    "bx.add_geometries(rivers, crs.PlateCarree(), facecolor='none', edgecolor='navy', linewidth=2)\n",
    "plt.colorbar(cf, ax=bx)"
   ]
  },
  {
   "cell_type": "code",
   "execution_count": null,
   "metadata": {},
   "outputs": [],
   "source": [
    "plt.switch_backend('notebook')\n",
    "%matplotlib notebook"
   ]
  },
  {
   "cell_type": "code",
   "execution_count": null,
   "metadata": {},
   "outputs": [],
   "source": [
    "plt.figure()\n",
    "plt.pcolormesh(ds['RAINNC'].isel(Time=-1))"
   ]
  },
  {
   "cell_type": "markdown",
   "metadata": {},
   "source": [
    "## Netcdf files\n",
    "\n",
    "There are several adapters available to read and write netCDF files; the two main ones are:\n",
    "- the official python-netCDF4 library, which needs the C netCDF library installed (should be automatic with conda):\n",
    "```\n",
    "conda install netCDF4\n",
    "```\n",
    "- the [scipy](https://docs.scipy.org/doc/scipy-0.16.1/reference/io.html) version, which is a pure Python implementation and **does not need the C library installed**\n",
    "\n",
    "Other libraries that add functionality on top of purely interfacing with netCDF files, such as [xarray](http://xarray.pydata.org/en/stable/), usually use one of the two under the hood. Since their APIs are identical, they can usually be used interchangeably. The \"official\" Python library seems to work more reliably in my experience (e.g. with malformed files), but has the drawback of being more complicated to install.\n",
    "\n",
    "Some very basic examples:"
   ]
  },
  {
   "cell_type": "code",
   "execution_count": null,
   "metadata": {},
   "outputs": [],
   "source": [
    "from netCDF4 import Dataset\n",
    "\n",
    "# opening a dataset (there's probably also a 'with...' statement available)\n",
    "ds = Dataset('/nfs/sata2_glacio/wrf_glacio/c01_2017093012/wrfout_d03_2017-09-30_12:00:00')\n",
    "ds"
   ]
  },
  {
   "cell_type": "markdown",
   "metadata": {},
   "source": [
    "Both metadata and actual data variables can be accessed either by dot-accessor:"
   ]
  },
  {
   "cell_type": "code",
   "execution_count": null,
   "metadata": {},
   "outputs": [],
   "source": [
    "ds.CEN_LAT"
   ]
  },
  {
   "cell_type": "markdown",
   "metadata": {},
   "source": [
    "or dictionary-style access:"
   ]
  },
  {
   "cell_type": "code",
   "execution_count": null,
   "metadata": {},
   "outputs": [],
   "source": [
    "ds['T2']"
   ]
  },
  {
   "cell_type": "markdown",
   "metadata": {},
   "source": [
    "To get the actual data as numpy array, use square bracket indexes or slices:"
   ]
  },
  {
   "cell_type": "code",
   "execution_count": null,
   "metadata": {},
   "outputs": [],
   "source": [
    "_[:]"
   ]
  },
  {
   "cell_type": "markdown",
   "metadata": {},
   "source": [
    "### Iris\n",
    "\n",
    "There is another Python module you might want to have a look at: [Iris](https://scitools.org.uk/iris/docs/latest/). It is a relatively high-level interface to meteorology-specific routines and data, and it has its own data model - the [iris cube](https://scitools.org.uk/iris/docs/latest/userguide/iris_cubes.html#iris-data-structures) - which is, in their own words, \"an interpretation of the Climate and Forecast (CF) Metadata Conventions\". 'Cubes' can be populated directly with netCDF data, I believe.\n",
    "\n",
    "(I don't use it much because its API seems somewhat cumbersome to me and is a little different from 'typical' Python, but if you're only starting out and are mostly interested in the kind of data manipulations offered by Iris, it might be quite useful, in particular its built-in plotting capabilities.)"
   ]
  },
  {
   "cell_type": "code",
   "execution_count": null,
   "metadata": {},
   "outputs": [],
   "source": []
  }
 ],
 "metadata": {
  "kernelspec": {
   "display_name": "intel",
   "language": "python",
   "name": "intel"
  },
  "language_info": {
   "codemirror_mode": {
    "name": "ipython",
    "version": 3
   },
   "file_extension": ".py",
   "mimetype": "text/x-python",
   "name": "python",
   "nbconvert_exporter": "python",
   "pygments_lexer": "ipython3",
   "version": "3.6.3"
  }
 },
 "nbformat": 4,
 "nbformat_minor": 2
}
